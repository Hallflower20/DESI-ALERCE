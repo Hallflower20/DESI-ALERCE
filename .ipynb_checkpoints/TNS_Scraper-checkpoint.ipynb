{
 "cells": [
  {
   "cell_type": "code",
   "execution_count": 215,
   "metadata": {},
   "outputs": [],
   "source": [
    "import logging\n",
    "import os\n",
    "import sys\n",
    "from io import BytesIO\n",
    "import pandas as pd\n",
    "import requests\n",
    "from datetime import date, timedelta, datetime\n",
    "from collections import Counter\n",
    "import numpy as np\n",
    "from dotenv import load_dotenv\n",
    "from tns_api import get_object\n",
    "import json\n",
    "from astroquery.vizier import Vizier\n",
    "import astropy.units as u\n",
    "from astropy.coordinates import SkyCoord\n",
    "from tqdm import tqdm\n",
    "import time"
   ]
  },
  {
   "cell_type": "code",
   "execution_count": 2,
   "metadata": {},
   "outputs": [
    {
     "data": {
      "text/plain": [
       "True"
      ]
     },
     "execution_count": 2,
     "metadata": {},
     "output_type": "execute_result"
    }
   ],
   "source": [
    "load_dotenv()"
   ]
  },
  {
   "cell_type": "code",
   "execution_count": 3,
   "metadata": {},
   "outputs": [],
   "source": [
    "TNS_API_KEY= os.getenv(\"api_key\")  # Works on real and sandbox now\n",
    "TNS_BOT_NAME = os.getenv(\"name\")\n",
    "TNS_BOT_ID = os.getenv(\"tns_id\")"
   ]
  },
  {
   "cell_type": "code",
   "execution_count": 4,
   "metadata": {},
   "outputs": [],
   "source": [
    "CATALOG_URL = 'https://www.wis-tns.org/system/files/tns_public_objects/tns_public_objects.csv.zip'"
   ]
  },
  {
   "cell_type": "code",
   "execution_count": 5,
   "metadata": {},
   "outputs": [],
   "source": [
    "def download_table():\n",
    "    with requests.post(\n",
    "        CATALOG_URL,\n",
    "        headers={\n",
    "            'user-agent': 'tns_marker{{\"tns_id\":\"{id}\",\"type\": \"bot\", \"name\":\"{name}\"}}'.format(\n",
    "                id=TNS_BOT_ID,\n",
    "                name=TNS_BOT_NAME,\n",
    "            )\n",
    "        },\n",
    "        data={\n",
    "            'api_key': (None, TNS_API_KEY)\n",
    "        },\n",
    "    ) as response:\n",
    "        return response.content"
   ]
  },
  {
   "cell_type": "code",
   "execution_count": 6,
   "metadata": {},
   "outputs": [],
   "source": [
    "data = download_table()"
   ]
  },
  {
   "cell_type": "code",
   "execution_count": 7,
   "metadata": {},
   "outputs": [],
   "source": [
    "df = pd.read_csv(\n",
    "        BytesIO(data),\n",
    "        skiprows=1,\n",
    "        compression='zip',\n",
    "    )"
   ]
  },
  {
   "cell_type": "code",
   "execution_count": 8,
   "metadata": {},
   "outputs": [
    {
     "data": {
      "text/plain": [
       "datetime.date(2024, 11, 26)"
      ]
     },
     "execution_count": 8,
     "metadata": {},
     "output_type": "execute_result"
    }
   ],
   "source": [
    "date.today()"
   ]
  },
  {
   "cell_type": "code",
   "execution_count": 9,
   "metadata": {},
   "outputs": [],
   "source": [
    "df[\"creationdate\"] = pd.to_datetime(df[\"creationdate\"])\n",
    "df[\"lastmodified\"] = pd.to_datetime(df[\"lastmodified\"])"
   ]
  },
  {
   "cell_type": "code",
   "execution_count": 10,
   "metadata": {},
   "outputs": [],
   "source": [
    "now = datetime.now()\n",
    "last_week = now - timedelta(days=7)"
   ]
  },
  {
   "cell_type": "code",
   "execution_count": 11,
   "metadata": {},
   "outputs": [],
   "source": [
    "last_week_rows = df[df['lastmodified'] > last_week]"
   ]
  },
  {
   "cell_type": "code",
   "execution_count": 12,
   "metadata": {},
   "outputs": [
    {
     "data": {
      "text/plain": [
       "Index(['objid', 'name_prefix', 'name', 'ra', 'declination', 'redshift',\n",
       "       'typeid', 'type', 'reporting_groupid', 'reporting_group',\n",
       "       'source_groupid', 'source_group', 'discoverydate', 'discoverymag',\n",
       "       'discmagfilter', 'filter', 'reporters', 'time_received',\n",
       "       'internal_names', 'Discovery_ADS_bibcode', 'Class_ADS_bibcodes',\n",
       "       'creationdate', 'lastmodified'],\n",
       "      dtype='object')"
      ]
     },
     "execution_count": 12,
     "metadata": {},
     "output_type": "execute_result"
    }
   ],
   "source": [
    "last_week_rows.columns"
   ]
  },
  {
   "cell_type": "code",
   "execution_count": 13,
   "metadata": {},
   "outputs": [],
   "source": [
    "last_week_visible = last_week_rows.iloc[np.where(last_week_rows[\"declination\"] > -30)]"
   ]
  },
  {
   "cell_type": "code",
   "execution_count": 210,
   "metadata": {},
   "outputs": [],
   "source": [
    "def is_close(distance, brightness):\n",
    "    return ((10 / (brightness - 3)) > np.log10(distance))"
   ]
  },
  {
   "cell_type": "code",
   "execution_count": 213,
   "metadata": {},
   "outputs": [],
   "source": [
    "def get_bright_star(sky_object, cone = 5*u.arcmin):\n",
    "    result = Vizier.query_region(sky_object,\n",
    "                             radius=cone,\n",
    "                             catalog='I/355/gaiadr3',\n",
    "                             column_filters={'Gmag': '<19'})[0]\n",
    "    positions = SkyCoord(result[0][\"RA_ICRS\"], result[0][\"DE_ICRS\"], frame = \"icrs\", equinox = 'J2016', unit=\"deg\")\n",
    "    distances = sky_object.separation(positions).arcsec\n",
    "    bool_close = is_close(distances, result[0][\"Gmag\"])\n",
    "    return np.sum(bool_close) > 0"
   ]
  },
  {
   "cell_type": "code",
   "execution_count": 216,
   "metadata": {},
   "outputs": [
    {
     "name": "stderr",
     "output_type": "stream",
     "text": [
      "100%|██████████| 444/444 [23:36<00:00,  3.19s/it]  \n"
     ]
    }
   ],
   "source": [
    "too_close = []\n",
    "for i in tqdm(SkyCoord(last_week_visible[\"ra\"], last_week_visible[\"declination\"], frame = \"icrs\", equinox = 'J2000', unit=\"deg\")):\n",
    "    too_close.append(get_bright_star(i))\n",
    "    time.sleep(2)"
   ]
  },
  {
   "cell_type": "code",
   "execution_count": 222,
   "metadata": {},
   "outputs": [],
   "source": [
    "test_row = last_week_visible.iloc[np.where(last_week_visible[\"internal_names\"] == \"ZTF24abtzewb\")]\n",
    "test_position = SkyCoord(test_row[\"ra\"], test_row[\"declination\"], frame = \"icrs\", equinox = 'J2000', unit=\"deg\")"
   ]
  },
  {
   "cell_type": "code",
   "execution_count": 14,
   "metadata": {},
   "outputs": [
    {
     "data": {
      "text/plain": [
       "Counter({'ATLAS': 94,\n",
       "         'YSE': 20,\n",
       "         'ALeRCE': 62,\n",
       "         'GOTO': 51,\n",
       "         'MASTER': 6,\n",
       "         'BlackGEM': 10,\n",
       "         'ZTF': 166,\n",
       "         'GaiaAlerts': 75,\n",
       "         'SGLF': 2,\n",
       "         'XOSS': 8,\n",
       "         'Pan-STARRS': 63,\n",
       "         nan: 2,\n",
       "         'PALEO': 1})"
      ]
     },
     "execution_count": 14,
     "metadata": {},
     "output_type": "execute_result"
    }
   ],
   "source": [
    "Counter(last_week_rows[\"reporting_group\"])"
   ]
  },
  {
   "cell_type": "code",
   "execution_count": 15,
   "metadata": {},
   "outputs": [
    {
     "data": {
      "text/plain": [
       "18                            ZTF24abtlsjj\n",
       "20                            ZTF24abtzczp\n",
       "37                ZTF24abttoau, ATLAS24qoc\n",
       "38                            ZTF24abttqoh\n",
       "43                            ZTF24abtzewb\n",
       "                      ...                 \n",
       "544                           ZTF24aapgwjh\n",
       "547    ZTF24absoxlw, ATLAS24qha, GOTO24ijv\n",
       "549               ZTF24abrpqhh, ATLAS24qes\n",
       "550               ZTF24abrophb, ATLAS24qbp\n",
       "580    ZTF24abrorvi, ATLAS24qcj, GOTO24ien\n",
       "Name: internal_names, Length: 166, dtype: object"
      ]
     },
     "execution_count": 15,
     "metadata": {},
     "output_type": "execute_result"
    }
   ],
   "source": [
    "last_week_visible.iloc[np.where(last_week_visible[\"reporting_group\"] == \"ZTF\")][\"internal_names\"]"
   ]
  },
  {
   "cell_type": "code",
   "execution_count": 16,
   "metadata": {},
   "outputs": [
    {
     "data": {
      "text/html": [
       "<div>\n",
       "<style scoped>\n",
       "    .dataframe tbody tr th:only-of-type {\n",
       "        vertical-align: middle;\n",
       "    }\n",
       "\n",
       "    .dataframe tbody tr th {\n",
       "        vertical-align: top;\n",
       "    }\n",
       "\n",
       "    .dataframe thead th {\n",
       "        text-align: right;\n",
       "    }\n",
       "</style>\n",
       "<table border=\"1\" class=\"dataframe\">\n",
       "  <thead>\n",
       "    <tr style=\"text-align: right;\">\n",
       "      <th></th>\n",
       "      <th>objid</th>\n",
       "      <th>name_prefix</th>\n",
       "      <th>name</th>\n",
       "      <th>ra</th>\n",
       "      <th>declination</th>\n",
       "      <th>redshift</th>\n",
       "      <th>typeid</th>\n",
       "      <th>type</th>\n",
       "      <th>reporting_groupid</th>\n",
       "      <th>reporting_group</th>\n",
       "      <th>...</th>\n",
       "      <th>discoverymag</th>\n",
       "      <th>discmagfilter</th>\n",
       "      <th>filter</th>\n",
       "      <th>reporters</th>\n",
       "      <th>time_received</th>\n",
       "      <th>internal_names</th>\n",
       "      <th>Discovery_ADS_bibcode</th>\n",
       "      <th>Class_ADS_bibcodes</th>\n",
       "      <th>creationdate</th>\n",
       "      <th>lastmodified</th>\n",
       "    </tr>\n",
       "  </thead>\n",
       "  <tbody>\n",
       "    <tr>\n",
       "      <th>0</th>\n",
       "      <td>167100</td>\n",
       "      <td>AT</td>\n",
       "      <td>2024acel</td>\n",
       "      <td>121.975400</td>\n",
       "      <td>62.021927</td>\n",
       "      <td>NaN</td>\n",
       "      <td>NaN</td>\n",
       "      <td>NaN</td>\n",
       "      <td>18.0</td>\n",
       "      <td>ATLAS</td>\n",
       "      <td>...</td>\n",
       "      <td>19.1040</td>\n",
       "      <td>72.0</td>\n",
       "      <td>orange</td>\n",
       "      <td>J. Tonry, L. Denneau, H. Weiland, R. Siverd (I...</td>\n",
       "      <td>2024-11-25 23:50:59</td>\n",
       "      <td>ATLAS24qpa</td>\n",
       "      <td>NaN</td>\n",
       "      <td>NaN</td>\n",
       "      <td>2024-11-25 23:51:01</td>\n",
       "      <td>2024-11-25 23:51:01</td>\n",
       "    </tr>\n",
       "    <tr>\n",
       "      <th>2</th>\n",
       "      <td>167098</td>\n",
       "      <td>AT</td>\n",
       "      <td>2024acej</td>\n",
       "      <td>57.039598</td>\n",
       "      <td>10.269078</td>\n",
       "      <td>NaN</td>\n",
       "      <td>NaN</td>\n",
       "      <td>NaN</td>\n",
       "      <td>18.0</td>\n",
       "      <td>ATLAS</td>\n",
       "      <td>...</td>\n",
       "      <td>18.7080</td>\n",
       "      <td>72.0</td>\n",
       "      <td>orange</td>\n",
       "      <td>J. Tonry, L. Denneau, H. Weiland, R. Siverd (I...</td>\n",
       "      <td>2024-11-25 23:01:36</td>\n",
       "      <td>ATLAS24qow</td>\n",
       "      <td>NaN</td>\n",
       "      <td>NaN</td>\n",
       "      <td>2024-11-25 23:01:38</td>\n",
       "      <td>2024-11-25 23:01:38</td>\n",
       "    </tr>\n",
       "    <tr>\n",
       "      <th>4</th>\n",
       "      <td>167096</td>\n",
       "      <td>AT</td>\n",
       "      <td>2024aceh</td>\n",
       "      <td>224.082663</td>\n",
       "      <td>47.405768</td>\n",
       "      <td>NaN</td>\n",
       "      <td>NaN</td>\n",
       "      <td>NaN</td>\n",
       "      <td>18.0</td>\n",
       "      <td>ATLAS</td>\n",
       "      <td>...</td>\n",
       "      <td>17.4670</td>\n",
       "      <td>72.0</td>\n",
       "      <td>orange</td>\n",
       "      <td>J. Tonry, L. Denneau, H. Weiland, R. Siverd (I...</td>\n",
       "      <td>2024-11-25 22:53:43</td>\n",
       "      <td>ATLAS24qoo</td>\n",
       "      <td>NaN</td>\n",
       "      <td>NaN</td>\n",
       "      <td>2024-11-25 22:53:44</td>\n",
       "      <td>2024-11-25 22:53:44</td>\n",
       "    </tr>\n",
       "    <tr>\n",
       "      <th>5</th>\n",
       "      <td>167095</td>\n",
       "      <td>AT</td>\n",
       "      <td>2024aceg</td>\n",
       "      <td>17.076232</td>\n",
       "      <td>-17.771290</td>\n",
       "      <td>NaN</td>\n",
       "      <td>NaN</td>\n",
       "      <td>NaN</td>\n",
       "      <td>18.0</td>\n",
       "      <td>ATLAS</td>\n",
       "      <td>...</td>\n",
       "      <td>19.1680</td>\n",
       "      <td>71.0</td>\n",
       "      <td>cyan</td>\n",
       "      <td>J. Tonry, L. Denneau, H. Weiland, R. Siverd (I...</td>\n",
       "      <td>2024-11-25 22:53:26</td>\n",
       "      <td>ATLAS24qon</td>\n",
       "      <td>NaN</td>\n",
       "      <td>NaN</td>\n",
       "      <td>2024-11-25 22:53:27</td>\n",
       "      <td>2024-11-25 22:53:27</td>\n",
       "    </tr>\n",
       "    <tr>\n",
       "      <th>6</th>\n",
       "      <td>167069</td>\n",
       "      <td>AT</td>\n",
       "      <td>2024acef</td>\n",
       "      <td>29.208244</td>\n",
       "      <td>-15.560037</td>\n",
       "      <td>NaN</td>\n",
       "      <td>NaN</td>\n",
       "      <td>NaN</td>\n",
       "      <td>83.0</td>\n",
       "      <td>YSE</td>\n",
       "      <td>...</td>\n",
       "      <td>20.0600</td>\n",
       "      <td>58.0</td>\n",
       "      <td>i</td>\n",
       "      <td>D. O. Jones (UC Santa Cruz), K. D. French (Car...</td>\n",
       "      <td>2024-11-25 20:00:30</td>\n",
       "      <td>PS24llh</td>\n",
       "      <td>NaN</td>\n",
       "      <td>NaN</td>\n",
       "      <td>2024-11-25 20:00:31</td>\n",
       "      <td>2024-11-25 20:00:31</td>\n",
       "    </tr>\n",
       "    <tr>\n",
       "      <th>...</th>\n",
       "      <td>...</td>\n",
       "      <td>...</td>\n",
       "      <td>...</td>\n",
       "      <td>...</td>\n",
       "      <td>...</td>\n",
       "      <td>...</td>\n",
       "      <td>...</td>\n",
       "      <td>...</td>\n",
       "      <td>...</td>\n",
       "      <td>...</td>\n",
       "      <td>...</td>\n",
       "      <td>...</td>\n",
       "      <td>...</td>\n",
       "      <td>...</td>\n",
       "      <td>...</td>\n",
       "      <td>...</td>\n",
       "      <td>...</td>\n",
       "      <td>...</td>\n",
       "      <td>...</td>\n",
       "      <td>...</td>\n",
       "      <td>...</td>\n",
       "    </tr>\n",
       "    <tr>\n",
       "      <th>555</th>\n",
       "      <td>166615</td>\n",
       "      <td>AT</td>\n",
       "      <td>2024abmw</td>\n",
       "      <td>346.776467</td>\n",
       "      <td>-17.094389</td>\n",
       "      <td>NaN</td>\n",
       "      <td>NaN</td>\n",
       "      <td>NaN</td>\n",
       "      <td>18.0</td>\n",
       "      <td>ATLAS</td>\n",
       "      <td>...</td>\n",
       "      <td>18.3190</td>\n",
       "      <td>72.0</td>\n",
       "      <td>orange</td>\n",
       "      <td>J. Tonry, L. Denneau, H. Weiland, R. Siverd (I...</td>\n",
       "      <td>2024-11-19 18:35:12</td>\n",
       "      <td>ATLAS24qgs</td>\n",
       "      <td>2024TNSTR4541....1T</td>\n",
       "      <td>NaN</td>\n",
       "      <td>2024-11-19 18:35:13</td>\n",
       "      <td>2024-11-19 18:35:13</td>\n",
       "    </tr>\n",
       "    <tr>\n",
       "      <th>556</th>\n",
       "      <td>166613</td>\n",
       "      <td>AT</td>\n",
       "      <td>2024abmu</td>\n",
       "      <td>39.172042</td>\n",
       "      <td>-13.135389</td>\n",
       "      <td>NaN</td>\n",
       "      <td>NaN</td>\n",
       "      <td>NaN</td>\n",
       "      <td>60.0</td>\n",
       "      <td>BlackGEM</td>\n",
       "      <td>...</td>\n",
       "      <td>20.2400</td>\n",
       "      <td>118.0</td>\n",
       "      <td>BG-q</td>\n",
       "      <td>H. Tranin, F. Stoppa, D. Pieterse, G. Ramsay, ...</td>\n",
       "      <td>2024-11-19 18:12:02</td>\n",
       "      <td>BGEM J023641.28-130807.3, PS24lgq</td>\n",
       "      <td>2024TNSTR4542....1T</td>\n",
       "      <td>NaN</td>\n",
       "      <td>2024-11-19 18:12:03</td>\n",
       "      <td>2024-11-19 18:12:03</td>\n",
       "    </tr>\n",
       "    <tr>\n",
       "      <th>557</th>\n",
       "      <td>166612</td>\n",
       "      <td>AT</td>\n",
       "      <td>2015fw</td>\n",
       "      <td>203.726971</td>\n",
       "      <td>10.984636</td>\n",
       "      <td>0.057</td>\n",
       "      <td>NaN</td>\n",
       "      <td>NaN</td>\n",
       "      <td>0.0</td>\n",
       "      <td>NaN</td>\n",
       "      <td>...</td>\n",
       "      <td>17.5000</td>\n",
       "      <td>12.0</td>\n",
       "      <td>V</td>\n",
       "      <td>G. Masi (Virtual Telescope Project, Ceccano, I...</td>\n",
       "      <td>2024-11-19 17:20:30</td>\n",
       "      <td>ASASSN-15ua</td>\n",
       "      <td>2024TNSTR4544....1M</td>\n",
       "      <td>NaN</td>\n",
       "      <td>2024-11-19 17:20:31</td>\n",
       "      <td>2024-11-19 17:20:31</td>\n",
       "    </tr>\n",
       "    <tr>\n",
       "      <th>580</th>\n",
       "      <td>166111</td>\n",
       "      <td>SN</td>\n",
       "      <td>2024aatr</td>\n",
       "      <td>152.621700</td>\n",
       "      <td>3.766697</td>\n",
       "      <td>0.030</td>\n",
       "      <td>3.0</td>\n",
       "      <td>SN Ia</td>\n",
       "      <td>48.0</td>\n",
       "      <td>ZTF</td>\n",
       "      <td>...</td>\n",
       "      <td>19.8314</td>\n",
       "      <td>110.0</td>\n",
       "      <td>g</td>\n",
       "      <td>Daniel Perley (LJMU), Christoffer Fremling (Ca...</td>\n",
       "      <td>2024-11-09 13:22:43</td>\n",
       "      <td>ZTF24abrorvi, ATLAS24qcj, GOTO24ien</td>\n",
       "      <td>2024TNSTR4403....1P</td>\n",
       "      <td>2024TNSCR4445....1P, 2024TNSCR4447....1F</td>\n",
       "      <td>2024-11-09 13:22:44</td>\n",
       "      <td>2024-11-19 20:31:26</td>\n",
       "    </tr>\n",
       "    <tr>\n",
       "      <th>581</th>\n",
       "      <td>166077</td>\n",
       "      <td>SN</td>\n",
       "      <td>2024aask</td>\n",
       "      <td>150.061275</td>\n",
       "      <td>10.452131</td>\n",
       "      <td>0.139</td>\n",
       "      <td>3.0</td>\n",
       "      <td>SN Ia</td>\n",
       "      <td>74.0</td>\n",
       "      <td>ALeRCE</td>\n",
       "      <td>...</td>\n",
       "      <td>19.7911</td>\n",
       "      <td>110.0</td>\n",
       "      <td>g</td>\n",
       "      <td>A. Munoz-Arancibia, F.E. Bauer, G. Pignata, F....</td>\n",
       "      <td>2024-11-08 17:50:05</td>\n",
       "      <td>ZTF24abriexo, GOTO24iep, BGEM J100014.70+10270...</td>\n",
       "      <td>2024TNSTR4378....1M</td>\n",
       "      <td>2024TNSCR4548....1S</td>\n",
       "      <td>2024-11-08 17:50:07</td>\n",
       "      <td>2024-11-19 18:34:52</td>\n",
       "    </tr>\n",
       "  </tbody>\n",
       "</table>\n",
       "<p>444 rows × 23 columns</p>\n",
       "</div>"
      ],
      "text/plain": [
       "      objid name_prefix      name          ra  declination  redshift  typeid  \\\n",
       "0    167100          AT  2024acel  121.975400    62.021927       NaN     NaN   \n",
       "2    167098          AT  2024acej   57.039598    10.269078       NaN     NaN   \n",
       "4    167096          AT  2024aceh  224.082663    47.405768       NaN     NaN   \n",
       "5    167095          AT  2024aceg   17.076232   -17.771290       NaN     NaN   \n",
       "6    167069          AT  2024acef   29.208244   -15.560037       NaN     NaN   \n",
       "..      ...         ...       ...         ...          ...       ...     ...   \n",
       "555  166615          AT  2024abmw  346.776467   -17.094389       NaN     NaN   \n",
       "556  166613          AT  2024abmu   39.172042   -13.135389       NaN     NaN   \n",
       "557  166612          AT    2015fw  203.726971    10.984636     0.057     NaN   \n",
       "580  166111          SN  2024aatr  152.621700     3.766697     0.030     3.0   \n",
       "581  166077          SN  2024aask  150.061275    10.452131     0.139     3.0   \n",
       "\n",
       "      type  reporting_groupid reporting_group  ...  discoverymag  \\\n",
       "0      NaN               18.0           ATLAS  ...       19.1040   \n",
       "2      NaN               18.0           ATLAS  ...       18.7080   \n",
       "4      NaN               18.0           ATLAS  ...       17.4670   \n",
       "5      NaN               18.0           ATLAS  ...       19.1680   \n",
       "6      NaN               83.0             YSE  ...       20.0600   \n",
       "..     ...                ...             ...  ...           ...   \n",
       "555    NaN               18.0           ATLAS  ...       18.3190   \n",
       "556    NaN               60.0        BlackGEM  ...       20.2400   \n",
       "557    NaN                0.0             NaN  ...       17.5000   \n",
       "580  SN Ia               48.0             ZTF  ...       19.8314   \n",
       "581  SN Ia               74.0          ALeRCE  ...       19.7911   \n",
       "\n",
       "    discmagfilter  filter                                          reporters  \\\n",
       "0            72.0  orange  J. Tonry, L. Denneau, H. Weiland, R. Siverd (I...   \n",
       "2            72.0  orange  J. Tonry, L. Denneau, H. Weiland, R. Siverd (I...   \n",
       "4            72.0  orange  J. Tonry, L. Denneau, H. Weiland, R. Siverd (I...   \n",
       "5            71.0    cyan  J. Tonry, L. Denneau, H. Weiland, R. Siverd (I...   \n",
       "6            58.0       i  D. O. Jones (UC Santa Cruz), K. D. French (Car...   \n",
       "..            ...     ...                                                ...   \n",
       "555          72.0  orange  J. Tonry, L. Denneau, H. Weiland, R. Siverd (I...   \n",
       "556         118.0    BG-q  H. Tranin, F. Stoppa, D. Pieterse, G. Ramsay, ...   \n",
       "557          12.0       V  G. Masi (Virtual Telescope Project, Ceccano, I...   \n",
       "580         110.0       g  Daniel Perley (LJMU), Christoffer Fremling (Ca...   \n",
       "581         110.0       g  A. Munoz-Arancibia, F.E. Bauer, G. Pignata, F....   \n",
       "\n",
       "           time_received                                     internal_names  \\\n",
       "0    2024-11-25 23:50:59                                         ATLAS24qpa   \n",
       "2    2024-11-25 23:01:36                                         ATLAS24qow   \n",
       "4    2024-11-25 22:53:43                                         ATLAS24qoo   \n",
       "5    2024-11-25 22:53:26                                         ATLAS24qon   \n",
       "6    2024-11-25 20:00:30                                            PS24llh   \n",
       "..                   ...                                                ...   \n",
       "555  2024-11-19 18:35:12                                         ATLAS24qgs   \n",
       "556  2024-11-19 18:12:02                  BGEM J023641.28-130807.3, PS24lgq   \n",
       "557  2024-11-19 17:20:30                                        ASASSN-15ua   \n",
       "580  2024-11-09 13:22:43                ZTF24abrorvi, ATLAS24qcj, GOTO24ien   \n",
       "581  2024-11-08 17:50:05  ZTF24abriexo, GOTO24iep, BGEM J100014.70+10270...   \n",
       "\n",
       "    Discovery_ADS_bibcode                        Class_ADS_bibcodes  \\\n",
       "0                     NaN                                       NaN   \n",
       "2                     NaN                                       NaN   \n",
       "4                     NaN                                       NaN   \n",
       "5                     NaN                                       NaN   \n",
       "6                     NaN                                       NaN   \n",
       "..                    ...                                       ...   \n",
       "555   2024TNSTR4541....1T                                       NaN   \n",
       "556   2024TNSTR4542....1T                                       NaN   \n",
       "557   2024TNSTR4544....1M                                       NaN   \n",
       "580   2024TNSTR4403....1P  2024TNSCR4445....1P, 2024TNSCR4447....1F   \n",
       "581   2024TNSTR4378....1M                       2024TNSCR4548....1S   \n",
       "\n",
       "           creationdate        lastmodified  \n",
       "0   2024-11-25 23:51:01 2024-11-25 23:51:01  \n",
       "2   2024-11-25 23:01:38 2024-11-25 23:01:38  \n",
       "4   2024-11-25 22:53:44 2024-11-25 22:53:44  \n",
       "5   2024-11-25 22:53:27 2024-11-25 22:53:27  \n",
       "6   2024-11-25 20:00:31 2024-11-25 20:00:31  \n",
       "..                  ...                 ...  \n",
       "555 2024-11-19 18:35:13 2024-11-19 18:35:13  \n",
       "556 2024-11-19 18:12:03 2024-11-19 18:12:03  \n",
       "557 2024-11-19 17:20:31 2024-11-19 17:20:31  \n",
       "580 2024-11-09 13:22:44 2024-11-19 20:31:26  \n",
       "581 2024-11-08 17:50:07 2024-11-19 18:34:52  \n",
       "\n",
       "[444 rows x 23 columns]"
      ]
     },
     "execution_count": 16,
     "metadata": {},
     "output_type": "execute_result"
    }
   ],
   "source": [
    "last_week_visible"
   ]
  },
  {
   "cell_type": "code",
   "execution_count": 17,
   "metadata": {},
   "outputs": [],
   "source": [
    "last_week_visible.to_csv(\"ToO_Objects.csv\", index = False)"
   ]
  },
  {
   "cell_type": "code",
   "execution_count": null,
   "metadata": {},
   "outputs": [],
   "source": []
  }
 ],
 "metadata": {
  "kernelspec": {
   "display_name": "desi_alerce",
   "language": "python",
   "name": "desi_alerce"
  },
  "language_info": {
   "codemirror_mode": {
    "name": "ipython",
    "version": 3
   },
   "file_extension": ".py",
   "mimetype": "text/x-python",
   "name": "python",
   "nbconvert_exporter": "python",
   "pygments_lexer": "ipython3",
   "version": "3.10.15"
  }
 },
 "nbformat": 4,
 "nbformat_minor": 4
}
