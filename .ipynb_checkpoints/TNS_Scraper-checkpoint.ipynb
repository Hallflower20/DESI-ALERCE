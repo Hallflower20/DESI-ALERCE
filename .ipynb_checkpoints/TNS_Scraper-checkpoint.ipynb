{
 "cells": [
  {
   "cell_type": "code",
   "execution_count": 1,
   "metadata": {
    "tags": []
   },
   "outputs": [],
   "source": [
    "import logging\n",
    "import os\n",
    "import sys\n",
    "from io import BytesIO\n",
    "import pandas as pd\n",
    "import requests\n",
    "from datetime import date, timedelta, datetime\n",
    "from collections import Counter\n",
    "import numpy as np\n",
    "import json\n",
    "from astroquery.vizier import Vizier\n",
    "import astropy.units as u\n",
    "from astropy.coordinates import SkyCoord\n",
    "from tqdm import tqdm\n",
    "import time\n",
    "from astropy.table import Table"
   ]
  },
  {
   "cell_type": "code",
   "execution_count": 2,
   "metadata": {
    "tags": []
   },
   "outputs": [],
   "source": [
    "from desimodel.footprint import is_point_in_desi"
   ]
  },
  {
   "cell_type": "code",
   "execution_count": 3,
   "metadata": {
    "tags": []
   },
   "outputs": [],
   "source": [
    "TNS_API_KEY= '006e7e40b06030997b93b0d0cf0973e56c408875'  # Works on real and sandbox now\n",
    "TNS_BOT_NAME = 'DESIRT_Bot'\n",
    "TNS_BOT_ID = 105220"
   ]
  },
  {
   "cell_type": "code",
   "execution_count": 4,
   "metadata": {
    "tags": []
   },
   "outputs": [],
   "source": [
    "CATALOG_URL = 'https://www.wis-tns.org/system/files/tns_public_objects/tns_public_objects.csv.zip'"
   ]
  },
  {
   "cell_type": "code",
   "execution_count": 5,
   "metadata": {
    "tags": []
   },
   "outputs": [],
   "source": [
    "def download_table():\n",
    "    with requests.post(\n",
    "        CATALOG_URL,\n",
    "        headers={\n",
    "            'user-agent': 'tns_marker{{\"tns_id\":\"{id}\",\"type\": \"bot\", \"name\":\"{name}\"}}'.format(\n",
    "                id=TNS_BOT_ID,\n",
    "                name=TNS_BOT_NAME,\n",
    "            )\n",
    "        },\n",
    "        data={\n",
    "            'api_key': (None, TNS_API_KEY)\n",
    "        },\n",
    "    ) as response:\n",
    "        return response.content"
   ]
  },
  {
   "cell_type": "code",
   "execution_count": 6,
   "metadata": {
    "tags": []
   },
   "outputs": [],
   "source": [
    "data = download_table()"
   ]
  },
  {
   "cell_type": "code",
   "execution_count": 7,
   "metadata": {
    "tags": []
   },
   "outputs": [],
   "source": [
    "df = pd.read_csv(\n",
    "        BytesIO(data),\n",
    "        skiprows=1,\n",
    "        compression='zip',\n",
    "    )"
   ]
  },
  {
   "cell_type": "code",
   "execution_count": 8,
   "metadata": {
    "tags": []
   },
   "outputs": [
    {
     "data": {
      "text/plain": [
       "datetime.date(2024, 12, 7)"
      ]
     },
     "execution_count": 8,
     "metadata": {},
     "output_type": "execute_result"
    }
   ],
   "source": [
    "date.today()"
   ]
  },
  {
   "cell_type": "code",
   "execution_count": 9,
   "metadata": {
    "tags": []
   },
   "outputs": [],
   "source": [
    "df[\"creationdate\"] = pd.to_datetime(df[\"creationdate\"])\n",
    "df[\"lastmodified\"] = pd.to_datetime(df[\"lastmodified\"])"
   ]
  },
  {
   "cell_type": "code",
   "execution_count": 10,
   "metadata": {
    "tags": []
   },
   "outputs": [],
   "source": [
    "now = datetime.now()\n",
    "last_week = now - timedelta(days=7)"
   ]
  },
  {
   "cell_type": "code",
   "execution_count": 11,
   "metadata": {
    "tags": []
   },
   "outputs": [],
   "source": [
    "last_week_rows = df[df['lastmodified'] > last_week]"
   ]
  },
  {
   "cell_type": "code",
   "execution_count": 12,
   "metadata": {
    "tags": []
   },
   "outputs": [
    {
     "data": {
      "text/plain": [
       "Index(['objid', 'name_prefix', 'name', 'ra', 'declination', 'redshift',\n",
       "       'typeid', 'type', 'reporting_groupid', 'reporting_group',\n",
       "       'source_groupid', 'source_group', 'discoverydate', 'discoverymag',\n",
       "       'discmagfilter', 'filter', 'reporters', 'time_received',\n",
       "       'internal_names', 'Discovery_ADS_bibcode', 'Class_ADS_bibcodes',\n",
       "       'creationdate', 'lastmodified'],\n",
       "      dtype='object')"
      ]
     },
     "execution_count": 12,
     "metadata": {},
     "output_type": "execute_result"
    }
   ],
   "source": [
    "last_week_rows.columns"
   ]
  },
  {
   "cell_type": "code",
   "execution_count": 13,
   "metadata": {
    "tags": []
   },
   "outputs": [],
   "source": [
    "last_week_visible = last_week_rows.iloc[np.where(last_week_rows[\"declination\"] > -30)]"
   ]
  },
  {
   "cell_type": "code",
   "execution_count": 14,
   "metadata": {
    "tags": []
   },
   "outputs": [],
   "source": [
    "t = Table.read(\"/global/cfs/cdirs/desi/survey/ops/surveyops/trunk/ops/tiles-main.ecsv\")\n",
    "sel = (t[\"IN_DESI\"]) & (t[\"STATUS\"] == \"unobs\")\n",
    "sel &= (t[\"PROGRAM\"] == \"BRIGHT\") | (t[\"PROGRAM\"] == \"DARK\")\n",
    "t = t[sel]"
   ]
  },
  {
   "cell_type": "code",
   "execution_count": 15,
   "metadata": {
    "tags": []
   },
   "outputs": [],
   "source": [
    "last_week_visible_tile_tf = is_point_in_desi(t, last_week_visible[\"ra\"], last_week_visible[\"declination\"])"
   ]
  },
  {
   "cell_type": "code",
   "execution_count": 16,
   "metadata": {
    "tags": []
   },
   "outputs": [],
   "source": [
    "last_week_visible_tile = last_week_visible.iloc[last_week_visible_tile_tf]"
   ]
  },
  {
   "cell_type": "code",
   "execution_count": 17,
   "metadata": {
    "tags": []
   },
   "outputs": [],
   "source": [
    "def is_close(distance, brightness):\n",
    "    print(distance)\n",
    "    print(brightness)\n",
    "    print((10 / (brightness - 3)))\n",
    "    print(np.log10(distance))\n",
    "    return ((10 / (brightness - 3)) > np.log10(distance))"
   ]
  },
  {
   "cell_type": "code",
   "execution_count": 18,
   "metadata": {
    "tags": []
   },
   "outputs": [],
   "source": [
    "def get_bright_star(sky_object, cone = 5*u.arcsec):\n",
    "    result = Vizier.query_region(sky_object,\n",
    "                             radius=cone,\n",
    "                             catalog='I/355/gaiadr3',\n",
    "                             column_filters={'Gmag': '<15'})\n",
    "    if len(result) == 0:\n",
    "        return False\n",
    "    return len(result[0]) > 0"
   ]
  },
  {
   "cell_type": "code",
   "execution_count": 19,
   "metadata": {
    "tags": []
   },
   "outputs": [
    {
     "name": "stderr",
     "output_type": "stream",
     "text": [
      "100%|██████████| 264/264 [09:26<00:00,  2.14s/it]\n"
     ]
    }
   ],
   "source": [
    "too_close = []\n",
    "for i in tqdm(SkyCoord(last_week_visible_tile[\"ra\"], last_week_visible_tile[\"declination\"], frame = \"icrs\", equinox = 'J2000', unit=\"deg\")):\n",
    "    too_close.append(get_bright_star(i))\n",
    "    time.sleep(2.1)"
   ]
  },
  {
   "cell_type": "code",
   "execution_count": 20,
   "metadata": {
    "tags": []
   },
   "outputs": [],
   "source": [
    "too_close = np.asarray(too_close)"
   ]
  },
  {
   "cell_type": "code",
   "execution_count": 21,
   "metadata": {
    "tags": []
   },
   "outputs": [],
   "source": [
    "last_week_visible_seperate = last_week_visible_tile.iloc[np.where(too_close == False)]"
   ]
  },
  {
   "cell_type": "code",
   "execution_count": 22,
   "metadata": {
    "tags": []
   },
   "outputs": [
    {
     "data": {
      "text/plain": [
       "Counter({'ZTF': 78,\n",
       "         'ALeRCE': 68,\n",
       "         'Pan-STARRS': 45,\n",
       "         'ATLAS': 36,\n",
       "         'GOTO': 9,\n",
       "         'YSE': 8,\n",
       "         'GaiaAlerts': 7,\n",
       "         'XOSS': 6,\n",
       "         'BlackGEM': 2,\n",
       "         'MASTER': 2,\n",
       "         'LAST': 1,\n",
       "         'TRAPUM': 1})"
      ]
     },
     "execution_count": 22,
     "metadata": {},
     "output_type": "execute_result"
    }
   ],
   "source": [
    "Counter(last_week_visible_seperate[\"reporting_group\"])"
   ]
  },
  {
   "cell_type": "code",
   "execution_count": 23,
   "metadata": {
    "tags": []
   },
   "outputs": [
    {
     "data": {
      "text/plain": [
       "0                                      ZTF24abwswlw\n",
       "30                       ZTF18aaqclsd, ZTF24abwqvsu\n",
       "33                         ZTF24abuyefl, ATLAS24qzg\n",
       "38              ZTF24abttkmr, ATLAS24qvu, GOTO24iry\n",
       "49     ZTF24abhzafp, ATLAS24qdm, GOTO24iru, PS24mhd\n",
       "                           ...                     \n",
       "751                                    ZTF21aagjqjt\n",
       "787                        ZTF24absdoug, ATLAS24qmb\n",
       "790                ZTF24ablscwt, GOTO24hjr, PS24lvj\n",
       "819    ZTF24abfwmpi, GOTO24ftj, ATLAS24oce, PS24lyu\n",
       "838    ZTF24abcviys, GOTO24fgy, ATLAS24nxo, PS24lxa\n",
       "Name: internal_names, Length: 78, dtype: object"
      ]
     },
     "execution_count": 23,
     "metadata": {},
     "output_type": "execute_result"
    }
   ],
   "source": [
    "last_week_visible_seperate.iloc[np.where(last_week_visible_seperate[\"reporting_group\"] == \"ZTF\")][\"internal_names\"]"
   ]
  },
  {
   "cell_type": "code",
   "execution_count": 24,
   "metadata": {
    "tags": []
   },
   "outputs": [
    {
     "data": {
      "text/html": [
       "<div>\n",
       "<style scoped>\n",
       "    .dataframe tbody tr th:only-of-type {\n",
       "        vertical-align: middle;\n",
       "    }\n",
       "\n",
       "    .dataframe tbody tr th {\n",
       "        vertical-align: top;\n",
       "    }\n",
       "\n",
       "    .dataframe thead th {\n",
       "        text-align: right;\n",
       "    }\n",
       "</style>\n",
       "<table border=\"1\" class=\"dataframe\">\n",
       "  <thead>\n",
       "    <tr style=\"text-align: right;\">\n",
       "      <th></th>\n",
       "      <th>objid</th>\n",
       "      <th>name_prefix</th>\n",
       "      <th>name</th>\n",
       "      <th>ra</th>\n",
       "      <th>declination</th>\n",
       "      <th>redshift</th>\n",
       "      <th>typeid</th>\n",
       "      <th>type</th>\n",
       "      <th>reporting_groupid</th>\n",
       "      <th>reporting_group</th>\n",
       "      <th>...</th>\n",
       "      <th>discoverymag</th>\n",
       "      <th>discmagfilter</th>\n",
       "      <th>filter</th>\n",
       "      <th>reporters</th>\n",
       "      <th>time_received</th>\n",
       "      <th>internal_names</th>\n",
       "      <th>Discovery_ADS_bibcode</th>\n",
       "      <th>Class_ADS_bibcodes</th>\n",
       "      <th>creationdate</th>\n",
       "      <th>lastmodified</th>\n",
       "    </tr>\n",
       "  </thead>\n",
       "  <tbody>\n",
       "    <tr>\n",
       "      <th>0</th>\n",
       "      <td>168011</td>\n",
       "      <td>AT</td>\n",
       "      <td>2024adnb</td>\n",
       "      <td>221.411091</td>\n",
       "      <td>41.547234</td>\n",
       "      <td>NaN</td>\n",
       "      <td>NaN</td>\n",
       "      <td>NaN</td>\n",
       "      <td>48.0</td>\n",
       "      <td>ZTF</td>\n",
       "      <td>...</td>\n",
       "      <td>20.1999</td>\n",
       "      <td>110.0</td>\n",
       "      <td>g</td>\n",
       "      <td>K. De (Caltech) on behalf of ZTF</td>\n",
       "      <td>2024-12-07 00:00:19</td>\n",
       "      <td>ZTF24abwswlw</td>\n",
       "      <td>NaN</td>\n",
       "      <td>NaN</td>\n",
       "      <td>2024-12-07 00:00:30</td>\n",
       "      <td>2024-12-07 00:00:30</td>\n",
       "    </tr>\n",
       "    <tr>\n",
       "      <th>6</th>\n",
       "      <td>168005</td>\n",
       "      <td>AT</td>\n",
       "      <td>2024admv</td>\n",
       "      <td>217.687117</td>\n",
       "      <td>59.424236</td>\n",
       "      <td>NaN</td>\n",
       "      <td>NaN</td>\n",
       "      <td>NaN</td>\n",
       "      <td>74.0</td>\n",
       "      <td>ALeRCE</td>\n",
       "      <td>...</td>\n",
       "      <td>19.9734</td>\n",
       "      <td>110.0</td>\n",
       "      <td>g</td>\n",
       "      <td>A. Munoz-Arancibia, F.E. Bauer, G. Pignata, F....</td>\n",
       "      <td>2024-12-06 22:40:18</td>\n",
       "      <td>ZTF24abwcufa</td>\n",
       "      <td>NaN</td>\n",
       "      <td>NaN</td>\n",
       "      <td>2024-12-06 22:40:38</td>\n",
       "      <td>2024-12-06 22:40:38</td>\n",
       "    </tr>\n",
       "    <tr>\n",
       "      <th>9</th>\n",
       "      <td>168002</td>\n",
       "      <td>AT</td>\n",
       "      <td>2024adms</td>\n",
       "      <td>157.155647</td>\n",
       "      <td>4.292048</td>\n",
       "      <td>NaN</td>\n",
       "      <td>NaN</td>\n",
       "      <td>NaN</td>\n",
       "      <td>74.0</td>\n",
       "      <td>ALeRCE</td>\n",
       "      <td>...</td>\n",
       "      <td>20.8074</td>\n",
       "      <td>111.0</td>\n",
       "      <td>r</td>\n",
       "      <td>A. Munoz-Arancibia, F.E. Bauer, G. Pignata, F....</td>\n",
       "      <td>2024-12-06 22:40:18</td>\n",
       "      <td>ZTF24abwsqff</td>\n",
       "      <td>NaN</td>\n",
       "      <td>NaN</td>\n",
       "      <td>2024-12-06 22:40:34</td>\n",
       "      <td>2024-12-06 22:40:34</td>\n",
       "    </tr>\n",
       "    <tr>\n",
       "      <th>10</th>\n",
       "      <td>168001</td>\n",
       "      <td>AT</td>\n",
       "      <td>2024admr</td>\n",
       "      <td>169.003729</td>\n",
       "      <td>38.027496</td>\n",
       "      <td>NaN</td>\n",
       "      <td>NaN</td>\n",
       "      <td>NaN</td>\n",
       "      <td>74.0</td>\n",
       "      <td>ALeRCE</td>\n",
       "      <td>...</td>\n",
       "      <td>19.8357</td>\n",
       "      <td>110.0</td>\n",
       "      <td>g</td>\n",
       "      <td>A. Munoz-Arancibia, F.E. Bauer, G. Pignata, F....</td>\n",
       "      <td>2024-12-06 22:40:18</td>\n",
       "      <td>ZTF24abwstll</td>\n",
       "      <td>NaN</td>\n",
       "      <td>NaN</td>\n",
       "      <td>2024-12-06 22:40:33</td>\n",
       "      <td>2024-12-06 22:40:33</td>\n",
       "    </tr>\n",
       "    <tr>\n",
       "      <th>12</th>\n",
       "      <td>167999</td>\n",
       "      <td>AT</td>\n",
       "      <td>2024admp</td>\n",
       "      <td>215.928240</td>\n",
       "      <td>55.279847</td>\n",
       "      <td>NaN</td>\n",
       "      <td>NaN</td>\n",
       "      <td>NaN</td>\n",
       "      <td>74.0</td>\n",
       "      <td>ALeRCE</td>\n",
       "      <td>...</td>\n",
       "      <td>19.4123</td>\n",
       "      <td>110.0</td>\n",
       "      <td>g</td>\n",
       "      <td>A. Munoz-Arancibia, F.E. Bauer, G. Pignata, F....</td>\n",
       "      <td>2024-12-06 22:40:18</td>\n",
       "      <td>ZTF24abwsvqt</td>\n",
       "      <td>NaN</td>\n",
       "      <td>NaN</td>\n",
       "      <td>2024-12-06 22:40:31</td>\n",
       "      <td>2024-12-06 22:40:31</td>\n",
       "    </tr>\n",
       "    <tr>\n",
       "      <th>...</th>\n",
       "      <td>...</td>\n",
       "      <td>...</td>\n",
       "      <td>...</td>\n",
       "      <td>...</td>\n",
       "      <td>...</td>\n",
       "      <td>...</td>\n",
       "      <td>...</td>\n",
       "      <td>...</td>\n",
       "      <td>...</td>\n",
       "      <td>...</td>\n",
       "      <td>...</td>\n",
       "      <td>...</td>\n",
       "      <td>...</td>\n",
       "      <td>...</td>\n",
       "      <td>...</td>\n",
       "      <td>...</td>\n",
       "      <td>...</td>\n",
       "      <td>...</td>\n",
       "      <td>...</td>\n",
       "      <td>...</td>\n",
       "      <td>...</td>\n",
       "    </tr>\n",
       "    <tr>\n",
       "      <th>835</th>\n",
       "      <td>160880</td>\n",
       "      <td>AT</td>\n",
       "      <td>2024tzl</td>\n",
       "      <td>52.759846</td>\n",
       "      <td>-24.711178</td>\n",
       "      <td>NaN</td>\n",
       "      <td>NaN</td>\n",
       "      <td>NaN</td>\n",
       "      <td>59.0</td>\n",
       "      <td>GOTO</td>\n",
       "      <td>...</td>\n",
       "      <td>19.2600</td>\n",
       "      <td>120.0</td>\n",
       "      <td>L</td>\n",
       "      <td>D. O'Neill, K. Ackley, M. Dyer, F. Jiménez-Iba...</td>\n",
       "      <td>2024-08-31 08:25:10</td>\n",
       "      <td>GOTO24fgi, ZTF24abgghrc, PS24mag</td>\n",
       "      <td>2024TNSTR3201....1O</td>\n",
       "      <td>NaN</td>\n",
       "      <td>2024-08-31 08:25:10</td>\n",
       "      <td>2024-11-30 23:57:44</td>\n",
       "    </tr>\n",
       "    <tr>\n",
       "      <th>838</th>\n",
       "      <td>160776</td>\n",
       "      <td>AT</td>\n",
       "      <td>2024tvm</td>\n",
       "      <td>20.840910</td>\n",
       "      <td>-13.365197</td>\n",
       "      <td>NaN</td>\n",
       "      <td>NaN</td>\n",
       "      <td>NaN</td>\n",
       "      <td>48.0</td>\n",
       "      <td>ZTF</td>\n",
       "      <td>...</td>\n",
       "      <td>19.6358</td>\n",
       "      <td>110.0</td>\n",
       "      <td>g</td>\n",
       "      <td>William Wu (UC Berkeley), Daniel Perley (LJMU)...</td>\n",
       "      <td>2024-08-29 12:32:30</td>\n",
       "      <td>ZTF24abcviys, GOTO24fgy, ATLAS24nxo, PS24lxa</td>\n",
       "      <td>2024TNSTR3167....1W</td>\n",
       "      <td>NaN</td>\n",
       "      <td>2024-08-29 12:32:32</td>\n",
       "      <td>2024-11-30 23:22:25</td>\n",
       "    </tr>\n",
       "    <tr>\n",
       "      <th>840</th>\n",
       "      <td>160758</td>\n",
       "      <td>SN</td>\n",
       "      <td>2024tuu</td>\n",
       "      <td>248.583413</td>\n",
       "      <td>25.053241</td>\n",
       "      <td>0.051</td>\n",
       "      <td>3.0</td>\n",
       "      <td>SN Ia</td>\n",
       "      <td>74.0</td>\n",
       "      <td>ALeRCE</td>\n",
       "      <td>...</td>\n",
       "      <td>20.6176</td>\n",
       "      <td>110.0</td>\n",
       "      <td>g</td>\n",
       "      <td>A. Munoz-Arancibia, G. Pignata, F.E. Bauer, F....</td>\n",
       "      <td>2024-08-28 20:24:13</td>\n",
       "      <td>ZTF24abddplf, GOTO24fqy, ATLAS24ocg, PS24lxe</td>\n",
       "      <td>2024TNSTR3126....1M</td>\n",
       "      <td>2024TNSCR3800....1C</td>\n",
       "      <td>2024-08-28 20:24:25</td>\n",
       "      <td>2024-11-30 23:24:21</td>\n",
       "    </tr>\n",
       "    <tr>\n",
       "      <th>855</th>\n",
       "      <td>157610</td>\n",
       "      <td>SN</td>\n",
       "      <td>2024pll</td>\n",
       "      <td>22.140581</td>\n",
       "      <td>14.798906</td>\n",
       "      <td>0.046</td>\n",
       "      <td>11.0</td>\n",
       "      <td>SN IIP</td>\n",
       "      <td>18.0</td>\n",
       "      <td>ATLAS</td>\n",
       "      <td>...</td>\n",
       "      <td>19.3980</td>\n",
       "      <td>72.0</td>\n",
       "      <td>orange</td>\n",
       "      <td>J. Tonry, L. Denneau, H. Weiland, A. Lawrence,...</td>\n",
       "      <td>2024-07-14 10:30:01</td>\n",
       "      <td>ATLAS24lfc, GOTO24dpi, ZTF24aaxqoeo, PS24man</td>\n",
       "      <td>2024TNSTR2429....1T</td>\n",
       "      <td>2024TNSCR3366....1R</td>\n",
       "      <td>2024-07-14 10:30:02</td>\n",
       "      <td>2024-11-30 23:59:49</td>\n",
       "    </tr>\n",
       "    <tr>\n",
       "      <th>856</th>\n",
       "      <td>152478</td>\n",
       "      <td>AT</td>\n",
       "      <td>2024kgg</td>\n",
       "      <td>2.917314</td>\n",
       "      <td>24.779258</td>\n",
       "      <td>NaN</td>\n",
       "      <td>NaN</td>\n",
       "      <td>NaN</td>\n",
       "      <td>18.0</td>\n",
       "      <td>ATLAS</td>\n",
       "      <td>...</td>\n",
       "      <td>19.1060</td>\n",
       "      <td>72.0</td>\n",
       "      <td>orange</td>\n",
       "      <td>J. Tonry, L. Denneau, H. Weiland, A. Lawrence,...</td>\n",
       "      <td>2024-06-04 06:44:51</td>\n",
       "      <td>ATLAS24ios, GOTO24cpr, PS24lvx</td>\n",
       "      <td>2024TNSTR1788....1T</td>\n",
       "      <td>NaN</td>\n",
       "      <td>2024-06-04 06:44:52</td>\n",
       "      <td>2024-11-30 23:13:12</td>\n",
       "    </tr>\n",
       "  </tbody>\n",
       "</table>\n",
       "<p>263 rows × 23 columns</p>\n",
       "</div>"
      ],
      "text/plain": [
       "      objid name_prefix      name          ra  declination  redshift  typeid  \\\n",
       "0    168011          AT  2024adnb  221.411091    41.547234       NaN     NaN   \n",
       "6    168005          AT  2024admv  217.687117    59.424236       NaN     NaN   \n",
       "9    168002          AT  2024adms  157.155647     4.292048       NaN     NaN   \n",
       "10   168001          AT  2024admr  169.003729    38.027496       NaN     NaN   \n",
       "12   167999          AT  2024admp  215.928240    55.279847       NaN     NaN   \n",
       "..      ...         ...       ...         ...          ...       ...     ...   \n",
       "835  160880          AT   2024tzl   52.759846   -24.711178       NaN     NaN   \n",
       "838  160776          AT   2024tvm   20.840910   -13.365197       NaN     NaN   \n",
       "840  160758          SN   2024tuu  248.583413    25.053241     0.051     3.0   \n",
       "855  157610          SN   2024pll   22.140581    14.798906     0.046    11.0   \n",
       "856  152478          AT   2024kgg    2.917314    24.779258       NaN     NaN   \n",
       "\n",
       "       type  reporting_groupid reporting_group  ...  discoverymag  \\\n",
       "0       NaN               48.0             ZTF  ...       20.1999   \n",
       "6       NaN               74.0          ALeRCE  ...       19.9734   \n",
       "9       NaN               74.0          ALeRCE  ...       20.8074   \n",
       "10      NaN               74.0          ALeRCE  ...       19.8357   \n",
       "12      NaN               74.0          ALeRCE  ...       19.4123   \n",
       "..      ...                ...             ...  ...           ...   \n",
       "835     NaN               59.0            GOTO  ...       19.2600   \n",
       "838     NaN               48.0             ZTF  ...       19.6358   \n",
       "840   SN Ia               74.0          ALeRCE  ...       20.6176   \n",
       "855  SN IIP               18.0           ATLAS  ...       19.3980   \n",
       "856     NaN               18.0           ATLAS  ...       19.1060   \n",
       "\n",
       "    discmagfilter  filter                                          reporters  \\\n",
       "0           110.0       g                   K. De (Caltech) on behalf of ZTF   \n",
       "6           110.0       g  A. Munoz-Arancibia, F.E. Bauer, G. Pignata, F....   \n",
       "9           111.0       r  A. Munoz-Arancibia, F.E. Bauer, G. Pignata, F....   \n",
       "10          110.0       g  A. Munoz-Arancibia, F.E. Bauer, G. Pignata, F....   \n",
       "12          110.0       g  A. Munoz-Arancibia, F.E. Bauer, G. Pignata, F....   \n",
       "..            ...     ...                                                ...   \n",
       "835         120.0       L  D. O'Neill, K. Ackley, M. Dyer, F. Jiménez-Iba...   \n",
       "838         110.0       g  William Wu (UC Berkeley), Daniel Perley (LJMU)...   \n",
       "840         110.0       g  A. Munoz-Arancibia, G. Pignata, F.E. Bauer, F....   \n",
       "855          72.0  orange  J. Tonry, L. Denneau, H. Weiland, A. Lawrence,...   \n",
       "856          72.0  orange  J. Tonry, L. Denneau, H. Weiland, A. Lawrence,...   \n",
       "\n",
       "           time_received                                internal_names  \\\n",
       "0    2024-12-07 00:00:19                                  ZTF24abwswlw   \n",
       "6    2024-12-06 22:40:18                                  ZTF24abwcufa   \n",
       "9    2024-12-06 22:40:18                                  ZTF24abwsqff   \n",
       "10   2024-12-06 22:40:18                                  ZTF24abwstll   \n",
       "12   2024-12-06 22:40:18                                  ZTF24abwsvqt   \n",
       "..                   ...                                           ...   \n",
       "835  2024-08-31 08:25:10              GOTO24fgi, ZTF24abgghrc, PS24mag   \n",
       "838  2024-08-29 12:32:30  ZTF24abcviys, GOTO24fgy, ATLAS24nxo, PS24lxa   \n",
       "840  2024-08-28 20:24:13  ZTF24abddplf, GOTO24fqy, ATLAS24ocg, PS24lxe   \n",
       "855  2024-07-14 10:30:01  ATLAS24lfc, GOTO24dpi, ZTF24aaxqoeo, PS24man   \n",
       "856  2024-06-04 06:44:51                ATLAS24ios, GOTO24cpr, PS24lvx   \n",
       "\n",
       "    Discovery_ADS_bibcode   Class_ADS_bibcodes        creationdate  \\\n",
       "0                     NaN                  NaN 2024-12-07 00:00:30   \n",
       "6                     NaN                  NaN 2024-12-06 22:40:38   \n",
       "9                     NaN                  NaN 2024-12-06 22:40:34   \n",
       "10                    NaN                  NaN 2024-12-06 22:40:33   \n",
       "12                    NaN                  NaN 2024-12-06 22:40:31   \n",
       "..                    ...                  ...                 ...   \n",
       "835   2024TNSTR3201....1O                  NaN 2024-08-31 08:25:10   \n",
       "838   2024TNSTR3167....1W                  NaN 2024-08-29 12:32:32   \n",
       "840   2024TNSTR3126....1M  2024TNSCR3800....1C 2024-08-28 20:24:25   \n",
       "855   2024TNSTR2429....1T  2024TNSCR3366....1R 2024-07-14 10:30:02   \n",
       "856   2024TNSTR1788....1T                  NaN 2024-06-04 06:44:52   \n",
       "\n",
       "           lastmodified  \n",
       "0   2024-12-07 00:00:30  \n",
       "6   2024-12-06 22:40:38  \n",
       "9   2024-12-06 22:40:34  \n",
       "10  2024-12-06 22:40:33  \n",
       "12  2024-12-06 22:40:31  \n",
       "..                  ...  \n",
       "835 2024-11-30 23:57:44  \n",
       "838 2024-11-30 23:22:25  \n",
       "840 2024-11-30 23:24:21  \n",
       "855 2024-11-30 23:59:49  \n",
       "856 2024-11-30 23:13:12  \n",
       "\n",
       "[263 rows x 23 columns]"
      ]
     },
     "execution_count": 24,
     "metadata": {},
     "output_type": "execute_result"
    }
   ],
   "source": [
    "last_week_visible_seperate"
   ]
  },
  {
   "cell_type": "code",
   "execution_count": 25,
   "metadata": {
    "tags": []
   },
   "outputs": [
    {
     "data": {
      "text/plain": [
       "2024"
      ]
     },
     "execution_count": 25,
     "metadata": {},
     "output_type": "execute_result"
    }
   ],
   "source": [
    "now.date().year"
   ]
  },
  {
   "cell_type": "code",
   "execution_count": 26,
   "metadata": {
    "tags": []
   },
   "outputs": [],
   "source": [
    "last_week_visible_seperate.to_csv(\"TNS_ToO/ToO_Objects-{}{:02d}{:02d}.csv\".format(now.date().year, now.date().month, now.date().day), index = False)"
   ]
  },
  {
   "cell_type": "code",
   "execution_count": 27,
   "metadata": {
    "tags": []
   },
   "outputs": [
    {
     "name": "stdout",
     "output_type": "stream",
     "text": [
      "python build_ledger.py TNS_ToO/ToO_Objects-20241207.csv -o TNS_ToO/ToO-input-20241207.ecsv\n"
     ]
    }
   ],
   "source": [
    "print(\"python build_ledger.py TNS_ToO/ToO_Objects-{}{:02d}{:02d}.csv -o TNS_ToO/ToO-input-{}{:02d}{:02d}.ecsv\".format(now.date().year, now.date().month, now.date().day, now.date().year, now.date().month, now.date().day))"
   ]
  },
  {
   "cell_type": "markdown",
   "metadata": {},
   "source": [
    "cd /pscratch/sd/a/adamyers/ToO/segev_put_it_here"
   ]
  },
  {
   "cell_type": "code",
   "execution_count": 28,
   "metadata": {},
   "outputs": [
    {
     "name": "stdout",
     "output_type": "stream",
     "text": [
      "cat /hildafs/home/xhall/GitHub/DESI-ALERCE/TNS_ToO/ToO-input-20241207.ecsv >> ToO-input.ecsv\n"
     ]
    }
   ],
   "source": [
    "print(\"cat ~/xhall/GitHub/DESI-ALERCE/TNS_ToO/ToO-input-{}{:02d}{:02d}.ecsv >> ToO-input.ecsv\".format(now.date().year, now.date().month, now.date().day))"
   ]
  },
  {
   "cell_type": "code",
   "execution_count": null,
   "metadata": {},
   "outputs": [],
   "source": []
  }
 ],
 "metadata": {
  "kernelspec": {
   "display_name": "DESI main",
   "language": "python",
   "name": "desi-main"
  },
  "language_info": {
   "codemirror_mode": {
    "name": "ipython",
    "version": 3
   },
   "file_extension": ".py",
   "mimetype": "text/x-python",
   "name": "python",
   "nbconvert_exporter": "python",
   "pygments_lexer": "ipython3",
   "version": "3.10.14"
  }
 },
 "nbformat": 4,
 "nbformat_minor": 4
}
