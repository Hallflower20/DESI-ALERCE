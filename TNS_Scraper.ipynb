{
 "cells": [
  {
   "cell_type": "code",
   "execution_count": 1,
   "metadata": {},
   "outputs": [],
   "source": [
    "import logging\n",
    "import os\n",
    "import sys\n",
    "from io import BytesIO\n",
    "import pandas as pd\n",
    "import requests\n",
    "from datetime import date, timedelta, datetime\n",
    "from collections import Counter\n",
    "import numpy as np\n",
    "from dotenv import load_dotenv\n",
    "from tns_api import get_object\n",
    "import json\n",
    "from astroquery.vizier import Vizier\n",
    "import astropy.units as u\n",
    "from astropy.coordinates import SkyCoord\n",
    "from tqdm import tqdm\n",
    "import time"
   ]
  },
  {
   "cell_type": "code",
   "execution_count": 2,
   "metadata": {},
   "outputs": [
    {
     "data": {
      "text/plain": [
       "True"
      ]
     },
     "execution_count": 2,
     "metadata": {},
     "output_type": "execute_result"
    }
   ],
   "source": [
    "load_dotenv()"
   ]
  },
  {
   "cell_type": "code",
   "execution_count": 3,
   "metadata": {},
   "outputs": [],
   "source": [
    "TNS_API_KEY= os.getenv(\"api_key\")  # Works on real and sandbox now\n",
    "TNS_BOT_NAME = os.getenv(\"name\")\n",
    "TNS_BOT_ID = os.getenv(\"tns_id\")"
   ]
  },
  {
   "cell_type": "code",
   "execution_count": 4,
   "metadata": {},
   "outputs": [],
   "source": [
    "CATALOG_URL = 'https://www.wis-tns.org/system/files/tns_public_objects/tns_public_objects.csv.zip'"
   ]
  },
  {
   "cell_type": "code",
   "execution_count": 5,
   "metadata": {},
   "outputs": [],
   "source": [
    "def download_table():\n",
    "    with requests.post(\n",
    "        CATALOG_URL,\n",
    "        headers={\n",
    "            'user-agent': 'tns_marker{{\"tns_id\":\"{id}\",\"type\": \"bot\", \"name\":\"{name}\"}}'.format(\n",
    "                id=TNS_BOT_ID,\n",
    "                name=TNS_BOT_NAME,\n",
    "            )\n",
    "        },\n",
    "        data={\n",
    "            'api_key': (None, TNS_API_KEY)\n",
    "        },\n",
    "    ) as response:\n",
    "        return response.content"
   ]
  },
  {
   "cell_type": "code",
   "execution_count": 6,
   "metadata": {},
   "outputs": [],
   "source": [
    "data = download_table()"
   ]
  },
  {
   "cell_type": "code",
   "execution_count": 7,
   "metadata": {},
   "outputs": [],
   "source": [
    "df = pd.read_csv(\n",
    "        BytesIO(data),\n",
    "        skiprows=1,\n",
    "        compression='zip',\n",
    "    )"
   ]
  },
  {
   "cell_type": "code",
   "execution_count": 8,
   "metadata": {},
   "outputs": [
    {
     "data": {
      "text/plain": [
       "datetime.date(2024, 11, 27)"
      ]
     },
     "execution_count": 8,
     "metadata": {},
     "output_type": "execute_result"
    }
   ],
   "source": [
    "date.today()"
   ]
  },
  {
   "cell_type": "code",
   "execution_count": 9,
   "metadata": {},
   "outputs": [],
   "source": [
    "df[\"creationdate\"] = pd.to_datetime(df[\"creationdate\"])\n",
    "df[\"lastmodified\"] = pd.to_datetime(df[\"lastmodified\"])"
   ]
  },
  {
   "cell_type": "code",
   "execution_count": 10,
   "metadata": {},
   "outputs": [],
   "source": [
    "now = datetime.now()\n",
    "last_week = now - timedelta(days=7)"
   ]
  },
  {
   "cell_type": "code",
   "execution_count": 11,
   "metadata": {},
   "outputs": [],
   "source": [
    "last_week_rows = df[df['lastmodified'] > last_week]"
   ]
  },
  {
   "cell_type": "code",
   "execution_count": 12,
   "metadata": {},
   "outputs": [
    {
     "data": {
      "text/plain": [
       "Index(['objid', 'name_prefix', 'name', 'ra', 'declination', 'redshift',\n",
       "       'typeid', 'type', 'reporting_groupid', 'reporting_group',\n",
       "       'source_groupid', 'source_group', 'discoverydate', 'discoverymag',\n",
       "       'discmagfilter', 'filter', 'reporters', 'time_received',\n",
       "       'internal_names', 'Discovery_ADS_bibcode', 'Class_ADS_bibcodes',\n",
       "       'creationdate', 'lastmodified'],\n",
       "      dtype='object')"
      ]
     },
     "execution_count": 12,
     "metadata": {},
     "output_type": "execute_result"
    }
   ],
   "source": [
    "last_week_rows.columns"
   ]
  },
  {
   "cell_type": "code",
   "execution_count": 13,
   "metadata": {},
   "outputs": [],
   "source": [
    "last_week_visible = last_week_rows.iloc[np.where(last_week_rows[\"declination\"] > -30)]"
   ]
  },
  {
   "cell_type": "code",
   "execution_count": 226,
   "metadata": {},
   "outputs": [],
   "source": [
    "def is_close(distance, brightness):\n",
    "    print(distance)\n",
    "    print(brightness)\n",
    "    print((10 / (brightness - 3)))\n",
    "    print(np.log10(distance))\n",
    "    return ((10 / (brightness - 3)) > np.log10(distance))"
   ]
  },
  {
   "cell_type": "code",
   "execution_count": 25,
   "metadata": {},
   "outputs": [],
   "source": [
    "def get_bright_star(sky_object, cone = 5*u.arcsec):\n",
    "    result = Vizier.query_region(sky_object,\n",
    "                             radius=cone,\n",
    "                             catalog='I/355/gaiadr3',\n",
    "                             column_filters={'Gmag': '<15'})\n",
    "    if len(result) == 0:\n",
    "        return False\n",
    "    return len(result[0]) > 0"
   ]
  },
  {
   "cell_type": "code",
   "execution_count": 26,
   "metadata": {},
   "outputs": [
    {
     "name": "stderr",
     "output_type": "stream",
     "text": [
      "100%|██████████| 553/553 [23:01<00:00,  2.50s/it]\n"
     ]
    }
   ],
   "source": [
    "too_close = []\n",
    "for i in tqdm(SkyCoord(last_week_visible[\"ra\"], last_week_visible[\"declination\"], frame = \"icrs\", equinox = 'J2000', unit=\"deg\")):\n",
    "    too_close.append(get_bright_star(i))\n",
    "    time.sleep(2)"
   ]
  },
  {
   "cell_type": "code",
   "execution_count": 27,
   "metadata": {},
   "outputs": [],
   "source": [
    "too_close = np.asarray(too_close)"
   ]
  },
  {
   "cell_type": "code",
   "execution_count": 31,
   "metadata": {},
   "outputs": [],
   "source": [
    "last_week_visible_seperate = last_week_visible.iloc[np.where(too_close == False)]"
   ]
  },
  {
   "cell_type": "code",
   "execution_count": 32,
   "metadata": {},
   "outputs": [
    {
     "data": {
      "text/plain": [
       "Counter({'Pan-STARRS': 98,\n",
       "         'ZTF': 183,\n",
       "         'YSE': 28,\n",
       "         'XOSS': 13,\n",
       "         'ATLAS': 56,\n",
       "         'Fink': 1,\n",
       "         'ALeRCE': 78,\n",
       "         'SGLF': 4,\n",
       "         'GOTO': 19,\n",
       "         'BlackGEM': 7,\n",
       "         'GaiaAlerts': 56,\n",
       "         'MASTER': 3,\n",
       "         nan: 1,\n",
       "         'PALEO': 1})"
      ]
     },
     "execution_count": 32,
     "metadata": {},
     "output_type": "execute_result"
    }
   ],
   "source": [
    "Counter(last_week_visible_seperate[\"reporting_group\"])"
   ]
  },
  {
   "cell_type": "code",
   "execution_count": 33,
   "metadata": {},
   "outputs": [
    {
     "data": {
      "text/plain": [
       "9      ZTF24abfsxul, ATLAS24obp, GOTO24ftk, PS24lno\n",
       "10                ZTF24abbxukc, ATLAS24nqh, PS24lnz\n",
       "60                                     ZTF24abudivs\n",
       "82                                     ZTF24abuhfmt\n",
       "83                                     ZTF24abttsko\n",
       "                           ...                     \n",
       "673               ZTF24absgzvv, PS24kya, ATLAS24qgi\n",
       "693                                    ZTF24abtdiyv\n",
       "719             ZTF24absoxlw, ATLAS24qha, GOTO24ijv\n",
       "721                        ZTF24abrpqhh, ATLAS24qes\n",
       "722                        ZTF24abrophb, ATLAS24qbp\n",
       "Name: internal_names, Length: 183, dtype: object"
      ]
     },
     "execution_count": 33,
     "metadata": {},
     "output_type": "execute_result"
    }
   ],
   "source": [
    "last_week_visible_seperate.iloc[np.where(last_week_visible_seperate[\"reporting_group\"] == \"ZTF\")][\"internal_names\"]"
   ]
  },
  {
   "cell_type": "code",
   "execution_count": 34,
   "metadata": {},
   "outputs": [
    {
     "data": {
      "text/html": [
       "<div>\n",
       "<style scoped>\n",
       "    .dataframe tbody tr th:only-of-type {\n",
       "        vertical-align: middle;\n",
       "    }\n",
       "\n",
       "    .dataframe tbody tr th {\n",
       "        vertical-align: top;\n",
       "    }\n",
       "\n",
       "    .dataframe thead th {\n",
       "        text-align: right;\n",
       "    }\n",
       "</style>\n",
       "<table border=\"1\" class=\"dataframe\">\n",
       "  <thead>\n",
       "    <tr style=\"text-align: right;\">\n",
       "      <th></th>\n",
       "      <th>objid</th>\n",
       "      <th>name_prefix</th>\n",
       "      <th>name</th>\n",
       "      <th>ra</th>\n",
       "      <th>declination</th>\n",
       "      <th>redshift</th>\n",
       "      <th>typeid</th>\n",
       "      <th>type</th>\n",
       "      <th>reporting_groupid</th>\n",
       "      <th>reporting_group</th>\n",
       "      <th>...</th>\n",
       "      <th>discoverymag</th>\n",
       "      <th>discmagfilter</th>\n",
       "      <th>filter</th>\n",
       "      <th>reporters</th>\n",
       "      <th>time_received</th>\n",
       "      <th>internal_names</th>\n",
       "      <th>Discovery_ADS_bibcode</th>\n",
       "      <th>Class_ADS_bibcodes</th>\n",
       "      <th>creationdate</th>\n",
       "      <th>lastmodified</th>\n",
       "    </tr>\n",
       "  </thead>\n",
       "  <tbody>\n",
       "    <tr>\n",
       "      <th>0</th>\n",
       "      <td>167232</td>\n",
       "      <td>AT</td>\n",
       "      <td>2024acjn</td>\n",
       "      <td>41.849622</td>\n",
       "      <td>5.635647</td>\n",
       "      <td>NaN</td>\n",
       "      <td>NaN</td>\n",
       "      <td>NaN</td>\n",
       "      <td>4.0</td>\n",
       "      <td>Pan-STARRS</td>\n",
       "      <td>...</td>\n",
       "      <td>20.7100</td>\n",
       "      <td>26.0</td>\n",
       "      <td>w</td>\n",
       "      <td>K. C. Chambers, T. de Boer, J. Herman, J. Fair...</td>\n",
       "      <td>2024-11-27 00:03:37</td>\n",
       "      <td>PS24loa</td>\n",
       "      <td>NaN</td>\n",
       "      <td>NaN</td>\n",
       "      <td>2024-11-27 00:03:38</td>\n",
       "      <td>2024-11-27 00:03:38</td>\n",
       "    </tr>\n",
       "    <tr>\n",
       "      <th>1</th>\n",
       "      <td>167231</td>\n",
       "      <td>AT</td>\n",
       "      <td>2024acjm</td>\n",
       "      <td>82.145227</td>\n",
       "      <td>5.134683</td>\n",
       "      <td>NaN</td>\n",
       "      <td>NaN</td>\n",
       "      <td>NaN</td>\n",
       "      <td>4.0</td>\n",
       "      <td>Pan-STARRS</td>\n",
       "      <td>...</td>\n",
       "      <td>20.6100</td>\n",
       "      <td>26.0</td>\n",
       "      <td>w</td>\n",
       "      <td>K. C. Chambers, T. de Boer, J. Herman, J. Fair...</td>\n",
       "      <td>2024-11-27 00:03:04</td>\n",
       "      <td>PS24lny</td>\n",
       "      <td>NaN</td>\n",
       "      <td>NaN</td>\n",
       "      <td>2024-11-27 00:03:05</td>\n",
       "      <td>2024-11-27 00:03:05</td>\n",
       "    </tr>\n",
       "    <tr>\n",
       "      <th>2</th>\n",
       "      <td>167230</td>\n",
       "      <td>AT</td>\n",
       "      <td>2024acjl</td>\n",
       "      <td>338.812776</td>\n",
       "      <td>0.355358</td>\n",
       "      <td>NaN</td>\n",
       "      <td>NaN</td>\n",
       "      <td>NaN</td>\n",
       "      <td>4.0</td>\n",
       "      <td>Pan-STARRS</td>\n",
       "      <td>...</td>\n",
       "      <td>20.7500</td>\n",
       "      <td>26.0</td>\n",
       "      <td>w</td>\n",
       "      <td>K. C. Chambers, T. de Boer, J. Herman, J. Fair...</td>\n",
       "      <td>2024-11-27 00:02:48</td>\n",
       "      <td>PS24lnx</td>\n",
       "      <td>NaN</td>\n",
       "      <td>NaN</td>\n",
       "      <td>2024-11-27 00:02:49</td>\n",
       "      <td>2024-11-27 00:02:49</td>\n",
       "    </tr>\n",
       "    <tr>\n",
       "      <th>3</th>\n",
       "      <td>167229</td>\n",
       "      <td>AT</td>\n",
       "      <td>2024acjk</td>\n",
       "      <td>10.069270</td>\n",
       "      <td>4.575079</td>\n",
       "      <td>NaN</td>\n",
       "      <td>NaN</td>\n",
       "      <td>NaN</td>\n",
       "      <td>4.0</td>\n",
       "      <td>Pan-STARRS</td>\n",
       "      <td>...</td>\n",
       "      <td>20.7300</td>\n",
       "      <td>26.0</td>\n",
       "      <td>w</td>\n",
       "      <td>K. C. Chambers, T. de Boer, J. Herman, J. Fair...</td>\n",
       "      <td>2024-11-27 00:02:36</td>\n",
       "      <td>PS24lnw</td>\n",
       "      <td>NaN</td>\n",
       "      <td>NaN</td>\n",
       "      <td>2024-11-27 00:02:37</td>\n",
       "      <td>2024-11-27 00:02:37</td>\n",
       "    </tr>\n",
       "    <tr>\n",
       "      <th>4</th>\n",
       "      <td>167228</td>\n",
       "      <td>AT</td>\n",
       "      <td>2024acjj</td>\n",
       "      <td>61.570253</td>\n",
       "      <td>-9.886095</td>\n",
       "      <td>NaN</td>\n",
       "      <td>NaN</td>\n",
       "      <td>NaN</td>\n",
       "      <td>4.0</td>\n",
       "      <td>Pan-STARRS</td>\n",
       "      <td>...</td>\n",
       "      <td>19.5400</td>\n",
       "      <td>26.0</td>\n",
       "      <td>w</td>\n",
       "      <td>K. C. Chambers, T. de Boer, J. Herman, J. Fair...</td>\n",
       "      <td>2024-11-27 00:02:10</td>\n",
       "      <td>PS24lnv</td>\n",
       "      <td>NaN</td>\n",
       "      <td>NaN</td>\n",
       "      <td>2024-11-27 00:02:11</td>\n",
       "      <td>2024-11-27 00:02:11</td>\n",
       "    </tr>\n",
       "    <tr>\n",
       "      <th>...</th>\n",
       "      <td>...</td>\n",
       "      <td>...</td>\n",
       "      <td>...</td>\n",
       "      <td>...</td>\n",
       "      <td>...</td>\n",
       "      <td>...</td>\n",
       "      <td>...</td>\n",
       "      <td>...</td>\n",
       "      <td>...</td>\n",
       "      <td>...</td>\n",
       "      <td>...</td>\n",
       "      <td>...</td>\n",
       "      <td>...</td>\n",
       "      <td>...</td>\n",
       "      <td>...</td>\n",
       "      <td>...</td>\n",
       "      <td>...</td>\n",
       "      <td>...</td>\n",
       "      <td>...</td>\n",
       "      <td>...</td>\n",
       "      <td>...</td>\n",
       "    </tr>\n",
       "    <tr>\n",
       "      <th>719</th>\n",
       "      <td>166311</td>\n",
       "      <td>SN</td>\n",
       "      <td>2024abbj</td>\n",
       "      <td>51.970355</td>\n",
       "      <td>17.651277</td>\n",
       "      <td>0.058000</td>\n",
       "      <td>3.0</td>\n",
       "      <td>SN Ia</td>\n",
       "      <td>48.0</td>\n",
       "      <td>ZTF</td>\n",
       "      <td>...</td>\n",
       "      <td>20.2929</td>\n",
       "      <td>110.0</td>\n",
       "      <td>g</td>\n",
       "      <td>Jesper Sollerman (SU), Christoffer Fremling (C...</td>\n",
       "      <td>2024-11-14 05:15:41</td>\n",
       "      <td>ZTF24absoxlw, ATLAS24qha, GOTO24ijv</td>\n",
       "      <td>2024TNSTR4497....1S</td>\n",
       "      <td>2024TNSCR4536....1F</td>\n",
       "      <td>2024-11-14 05:15:42</td>\n",
       "      <td>2024-11-20 20:31:21</td>\n",
       "    </tr>\n",
       "    <tr>\n",
       "      <th>720</th>\n",
       "      <td>166179</td>\n",
       "      <td>SN</td>\n",
       "      <td>2024aawh</td>\n",
       "      <td>202.366235</td>\n",
       "      <td>11.006286</td>\n",
       "      <td>0.022799</td>\n",
       "      <td>10.0</td>\n",
       "      <td>SN II</td>\n",
       "      <td>10.0</td>\n",
       "      <td>XOSS</td>\n",
       "      <td>...</td>\n",
       "      <td>18.1100</td>\n",
       "      <td>1.0</td>\n",
       "      <td>Clear</td>\n",
       "      <td>Jianlin Xu, Mi Zhang, Leiming Tang, Yanxi Li, ...</td>\n",
       "      <td>2024-11-11 02:35:03</td>\n",
       "      <td>PSP24aa, ZTF24abrirtr</td>\n",
       "      <td>2024TNSTR4438....1X</td>\n",
       "      <td>2024TNSCR4561....1S</td>\n",
       "      <td>2024-11-11 02:35:04</td>\n",
       "      <td>2024-11-20 13:50:35</td>\n",
       "    </tr>\n",
       "    <tr>\n",
       "      <th>721</th>\n",
       "      <td>166144</td>\n",
       "      <td>AT</td>\n",
       "      <td>2024aauy</td>\n",
       "      <td>298.080591</td>\n",
       "      <td>47.240900</td>\n",
       "      <td>NaN</td>\n",
       "      <td>NaN</td>\n",
       "      <td>NaN</td>\n",
       "      <td>48.0</td>\n",
       "      <td>ZTF</td>\n",
       "      <td>...</td>\n",
       "      <td>19.8604</td>\n",
       "      <td>110.0</td>\n",
       "      <td>g</td>\n",
       "      <td>Jesper Sollerman (SU), Christoffer Fremling (C...</td>\n",
       "      <td>2024-11-10 07:37:21</td>\n",
       "      <td>ZTF24abrpqhh, ATLAS24qes</td>\n",
       "      <td>2024TNSTR4423....1S</td>\n",
       "      <td>NaN</td>\n",
       "      <td>2024-11-10 07:37:22</td>\n",
       "      <td>2024-11-20 20:31:20</td>\n",
       "    </tr>\n",
       "    <tr>\n",
       "      <th>722</th>\n",
       "      <td>166095</td>\n",
       "      <td>SN</td>\n",
       "      <td>2024aatb</td>\n",
       "      <td>165.264175</td>\n",
       "      <td>57.786534</td>\n",
       "      <td>0.047905</td>\n",
       "      <td>3.0</td>\n",
       "      <td>SN Ia</td>\n",
       "      <td>48.0</td>\n",
       "      <td>ZTF</td>\n",
       "      <td>...</td>\n",
       "      <td>20.2117</td>\n",
       "      <td>111.0</td>\n",
       "      <td>r</td>\n",
       "      <td>Jesper Sollerman (SU), Christoffer Fremling (C...</td>\n",
       "      <td>2024-11-09 11:39:34</td>\n",
       "      <td>ZTF24abrophb, ATLAS24qbp</td>\n",
       "      <td>2024TNSTR4406....1S</td>\n",
       "      <td>2024TNSCR4561....1S</td>\n",
       "      <td>2024-11-09 11:39:36</td>\n",
       "      <td>2024-11-20 12:21:25</td>\n",
       "    </tr>\n",
       "    <tr>\n",
       "      <th>723</th>\n",
       "      <td>165528</td>\n",
       "      <td>AT</td>\n",
       "      <td>2024zxn</td>\n",
       "      <td>343.464139</td>\n",
       "      <td>-10.162128</td>\n",
       "      <td>NaN</td>\n",
       "      <td>NaN</td>\n",
       "      <td>NaN</td>\n",
       "      <td>59.0</td>\n",
       "      <td>GOTO</td>\n",
       "      <td>...</td>\n",
       "      <td>18.9200</td>\n",
       "      <td>120.0</td>\n",
       "      <td>L</td>\n",
       "      <td>A. Kumar, G. Ramsay, K. Ackley, M. Dyer, F. Ji...</td>\n",
       "      <td>2024-11-01 07:35:03</td>\n",
       "      <td>GOTO24hxn, ZTF24abpzwue, PS24lgo</td>\n",
       "      <td>2024TNSTR4258....1K</td>\n",
       "      <td>NaN</td>\n",
       "      <td>2024-11-01 07:35:04</td>\n",
       "      <td>2024-11-20 17:52:03</td>\n",
       "    </tr>\n",
       "  </tbody>\n",
       "</table>\n",
       "<p>548 rows × 23 columns</p>\n",
       "</div>"
      ],
      "text/plain": [
       "      objid name_prefix      name          ra  declination  redshift  typeid  \\\n",
       "0    167232          AT  2024acjn   41.849622     5.635647       NaN     NaN   \n",
       "1    167231          AT  2024acjm   82.145227     5.134683       NaN     NaN   \n",
       "2    167230          AT  2024acjl  338.812776     0.355358       NaN     NaN   \n",
       "3    167229          AT  2024acjk   10.069270     4.575079       NaN     NaN   \n",
       "4    167228          AT  2024acjj   61.570253    -9.886095       NaN     NaN   \n",
       "..      ...         ...       ...         ...          ...       ...     ...   \n",
       "719  166311          SN  2024abbj   51.970355    17.651277  0.058000     3.0   \n",
       "720  166179          SN  2024aawh  202.366235    11.006286  0.022799    10.0   \n",
       "721  166144          AT  2024aauy  298.080591    47.240900       NaN     NaN   \n",
       "722  166095          SN  2024aatb  165.264175    57.786534  0.047905     3.0   \n",
       "723  165528          AT   2024zxn  343.464139   -10.162128       NaN     NaN   \n",
       "\n",
       "      type  reporting_groupid reporting_group  ...  discoverymag  \\\n",
       "0      NaN                4.0      Pan-STARRS  ...       20.7100   \n",
       "1      NaN                4.0      Pan-STARRS  ...       20.6100   \n",
       "2      NaN                4.0      Pan-STARRS  ...       20.7500   \n",
       "3      NaN                4.0      Pan-STARRS  ...       20.7300   \n",
       "4      NaN                4.0      Pan-STARRS  ...       19.5400   \n",
       "..     ...                ...             ...  ...           ...   \n",
       "719  SN Ia               48.0             ZTF  ...       20.2929   \n",
       "720  SN II               10.0            XOSS  ...       18.1100   \n",
       "721    NaN               48.0             ZTF  ...       19.8604   \n",
       "722  SN Ia               48.0             ZTF  ...       20.2117   \n",
       "723    NaN               59.0            GOTO  ...       18.9200   \n",
       "\n",
       "    discmagfilter filter                                          reporters  \\\n",
       "0            26.0      w  K. C. Chambers, T. de Boer, J. Herman, J. Fair...   \n",
       "1            26.0      w  K. C. Chambers, T. de Boer, J. Herman, J. Fair...   \n",
       "2            26.0      w  K. C. Chambers, T. de Boer, J. Herman, J. Fair...   \n",
       "3            26.0      w  K. C. Chambers, T. de Boer, J. Herman, J. Fair...   \n",
       "4            26.0      w  K. C. Chambers, T. de Boer, J. Herman, J. Fair...   \n",
       "..            ...    ...                                                ...   \n",
       "719         110.0      g  Jesper Sollerman (SU), Christoffer Fremling (C...   \n",
       "720           1.0  Clear  Jianlin Xu, Mi Zhang, Leiming Tang, Yanxi Li, ...   \n",
       "721         110.0      g  Jesper Sollerman (SU), Christoffer Fremling (C...   \n",
       "722         111.0      r  Jesper Sollerman (SU), Christoffer Fremling (C...   \n",
       "723         120.0      L  A. Kumar, G. Ramsay, K. Ackley, M. Dyer, F. Ji...   \n",
       "\n",
       "           time_received                       internal_names  \\\n",
       "0    2024-11-27 00:03:37                              PS24loa   \n",
       "1    2024-11-27 00:03:04                              PS24lny   \n",
       "2    2024-11-27 00:02:48                              PS24lnx   \n",
       "3    2024-11-27 00:02:36                              PS24lnw   \n",
       "4    2024-11-27 00:02:10                              PS24lnv   \n",
       "..                   ...                                  ...   \n",
       "719  2024-11-14 05:15:41  ZTF24absoxlw, ATLAS24qha, GOTO24ijv   \n",
       "720  2024-11-11 02:35:03                PSP24aa, ZTF24abrirtr   \n",
       "721  2024-11-10 07:37:21             ZTF24abrpqhh, ATLAS24qes   \n",
       "722  2024-11-09 11:39:34             ZTF24abrophb, ATLAS24qbp   \n",
       "723  2024-11-01 07:35:03     GOTO24hxn, ZTF24abpzwue, PS24lgo   \n",
       "\n",
       "    Discovery_ADS_bibcode   Class_ADS_bibcodes        creationdate  \\\n",
       "0                     NaN                  NaN 2024-11-27 00:03:38   \n",
       "1                     NaN                  NaN 2024-11-27 00:03:05   \n",
       "2                     NaN                  NaN 2024-11-27 00:02:49   \n",
       "3                     NaN                  NaN 2024-11-27 00:02:37   \n",
       "4                     NaN                  NaN 2024-11-27 00:02:11   \n",
       "..                    ...                  ...                 ...   \n",
       "719   2024TNSTR4497....1S  2024TNSCR4536....1F 2024-11-14 05:15:42   \n",
       "720   2024TNSTR4438....1X  2024TNSCR4561....1S 2024-11-11 02:35:04   \n",
       "721   2024TNSTR4423....1S                  NaN 2024-11-10 07:37:22   \n",
       "722   2024TNSTR4406....1S  2024TNSCR4561....1S 2024-11-09 11:39:36   \n",
       "723   2024TNSTR4258....1K                  NaN 2024-11-01 07:35:04   \n",
       "\n",
       "           lastmodified  \n",
       "0   2024-11-27 00:03:38  \n",
       "1   2024-11-27 00:03:05  \n",
       "2   2024-11-27 00:02:49  \n",
       "3   2024-11-27 00:02:37  \n",
       "4   2024-11-27 00:02:11  \n",
       "..                  ...  \n",
       "719 2024-11-20 20:31:21  \n",
       "720 2024-11-20 13:50:35  \n",
       "721 2024-11-20 20:31:20  \n",
       "722 2024-11-20 12:21:25  \n",
       "723 2024-11-20 17:52:03  \n",
       "\n",
       "[548 rows x 23 columns]"
      ]
     },
     "execution_count": 34,
     "metadata": {},
     "output_type": "execute_result"
    }
   ],
   "source": [
    "last_week_visible_seperate"
   ]
  },
  {
   "cell_type": "code",
   "execution_count": 36,
   "metadata": {},
   "outputs": [],
   "source": [
    "last_week_visible_seperate.to_csv(\"ToO_Objects-20241127.csv\", index = False)"
   ]
  },
  {
   "cell_type": "code",
   "execution_count": null,
   "metadata": {},
   "outputs": [],
   "source": []
  }
 ],
 "metadata": {
  "kernelspec": {
   "display_name": "desi_alerce",
   "language": "python",
   "name": "desi_alerce"
  },
  "language_info": {
   "codemirror_mode": {
    "name": "ipython",
    "version": 3
   },
   "file_extension": ".py",
   "mimetype": "text/x-python",
   "name": "python",
   "nbconvert_exporter": "python",
   "pygments_lexer": "ipython3",
   "version": "3.10.15"
  }
 },
 "nbformat": 4,
 "nbformat_minor": 4
}
