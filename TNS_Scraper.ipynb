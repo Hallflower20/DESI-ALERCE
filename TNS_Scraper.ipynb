{
 "cells": [
  {
   "cell_type": "code",
   "execution_count": 1,
   "metadata": {},
   "outputs": [],
   "source": [
    "import logging\n",
    "import os\n",
    "import sys\n",
    "from io import BytesIO\n",
    "import pandas as pd\n",
    "import requests\n",
    "from datetime import date, timedelta, datetime\n",
    "from collections import Counter\n",
    "import numpy as np\n",
    "from dotenv import load_dotenv\n",
    "from tns_api import get_object\n",
    "import json\n",
    "from astroquery.vizier import Vizier\n",
    "import astropy.units as u\n",
    "from astropy.coordinates import SkyCoord\n",
    "from tqdm import tqdm\n",
    "import time"
   ]
  },
  {
   "cell_type": "code",
   "execution_count": 2,
   "metadata": {},
   "outputs": [
    {
     "data": {
      "text/plain": [
       "True"
      ]
     },
     "execution_count": 2,
     "metadata": {},
     "output_type": "execute_result"
    }
   ],
   "source": [
    "load_dotenv()"
   ]
  },
  {
   "cell_type": "code",
   "execution_count": 3,
   "metadata": {},
   "outputs": [],
   "source": [
    "TNS_API_KEY= os.getenv(\"api_key\")  # Works on real and sandbox now\n",
    "TNS_BOT_NAME = os.getenv(\"name\")\n",
    "TNS_BOT_ID = os.getenv(\"tns_id\")"
   ]
  },
  {
   "cell_type": "code",
   "execution_count": 4,
   "metadata": {},
   "outputs": [],
   "source": [
    "CATALOG_URL = 'https://www.wis-tns.org/system/files/tns_public_objects/tns_public_objects.csv.zip'"
   ]
  },
  {
   "cell_type": "code",
   "execution_count": 5,
   "metadata": {},
   "outputs": [],
   "source": [
    "def download_table():\n",
    "    with requests.post(\n",
    "        CATALOG_URL,\n",
    "        headers={\n",
    "            'user-agent': 'tns_marker{{\"tns_id\":\"{id}\",\"type\": \"bot\", \"name\":\"{name}\"}}'.format(\n",
    "                id=TNS_BOT_ID,\n",
    "                name=TNS_BOT_NAME,\n",
    "            )\n",
    "        },\n",
    "        data={\n",
    "            'api_key': (None, TNS_API_KEY)\n",
    "        },\n",
    "    ) as response:\n",
    "        return response.content"
   ]
  },
  {
   "cell_type": "code",
   "execution_count": 6,
   "metadata": {},
   "outputs": [],
   "source": [
    "data = download_table()"
   ]
  },
  {
   "cell_type": "code",
   "execution_count": 7,
   "metadata": {},
   "outputs": [],
   "source": [
    "df = pd.read_csv(\n",
    "        BytesIO(data),\n",
    "        skiprows=1,\n",
    "        compression='zip',\n",
    "    )"
   ]
  },
  {
   "cell_type": "code",
   "execution_count": 8,
   "metadata": {},
   "outputs": [
    {
     "data": {
      "text/plain": [
       "datetime.date(2024, 12, 5)"
      ]
     },
     "execution_count": 8,
     "metadata": {},
     "output_type": "execute_result"
    }
   ],
   "source": [
    "date.today()"
   ]
  },
  {
   "cell_type": "code",
   "execution_count": 9,
   "metadata": {},
   "outputs": [],
   "source": [
    "df[\"creationdate\"] = pd.to_datetime(df[\"creationdate\"])\n",
    "df[\"lastmodified\"] = pd.to_datetime(df[\"lastmodified\"])"
   ]
  },
  {
   "cell_type": "code",
   "execution_count": 10,
   "metadata": {},
   "outputs": [],
   "source": [
    "now = datetime.now()\n",
    "last_week = now - timedelta(days=7)"
   ]
  },
  {
   "cell_type": "code",
   "execution_count": 11,
   "metadata": {},
   "outputs": [],
   "source": [
    "last_week_rows = df[df['lastmodified'] > last_week]"
   ]
  },
  {
   "cell_type": "code",
   "execution_count": 12,
   "metadata": {},
   "outputs": [
    {
     "data": {
      "text/plain": [
       "Index(['objid', 'name_prefix', 'name', 'ra', 'declination', 'redshift',\n",
       "       'typeid', 'type', 'reporting_groupid', 'reporting_group',\n",
       "       'source_groupid', 'source_group', 'discoverydate', 'discoverymag',\n",
       "       'discmagfilter', 'filter', 'reporters', 'time_received',\n",
       "       'internal_names', 'Discovery_ADS_bibcode', 'Class_ADS_bibcodes',\n",
       "       'creationdate', 'lastmodified'],\n",
       "      dtype='object')"
      ]
     },
     "execution_count": 12,
     "metadata": {},
     "output_type": "execute_result"
    }
   ],
   "source": [
    "last_week_rows.columns"
   ]
  },
  {
   "cell_type": "code",
   "execution_count": 13,
   "metadata": {},
   "outputs": [],
   "source": [
    "last_week_visible = last_week_rows.iloc[np.where(last_week_rows[\"declination\"] > -30)]"
   ]
  },
  {
   "cell_type": "code",
   "execution_count": 14,
   "metadata": {},
   "outputs": [],
   "source": [
    "def is_close(distance, brightness):\n",
    "    print(distance)\n",
    "    print(brightness)\n",
    "    print((10 / (brightness - 3)))\n",
    "    print(np.log10(distance))\n",
    "    return ((10 / (brightness - 3)) > np.log10(distance))"
   ]
  },
  {
   "cell_type": "code",
   "execution_count": 15,
   "metadata": {},
   "outputs": [],
   "source": [
    "def get_bright_star(sky_object, cone = 5*u.arcsec):\n",
    "    result = Vizier.query_region(sky_object,\n",
    "                             radius=cone,\n",
    "                             catalog='I/355/gaiadr3',\n",
    "                             column_filters={'Gmag': '<15'})\n",
    "    if len(result) == 0:\n",
    "        return False\n",
    "    return len(result[0]) > 0"
   ]
  },
  {
   "cell_type": "code",
   "execution_count": 17,
   "metadata": {},
   "outputs": [
    {
     "name": "stderr",
     "output_type": "stream",
     "text": [
      "100%|██████████| 799/799 [33:37<00:00,  2.53s/it]\n"
     ]
    }
   ],
   "source": [
    "too_close = []\n",
    "for i in tqdm(SkyCoord(last_week_visible[\"ra\"], last_week_visible[\"declination\"], frame = \"icrs\", equinox = 'J2000', unit=\"deg\")):\n",
    "    too_close.append(get_bright_star(i))\n",
    "    time.sleep(2.1)"
   ]
  },
  {
   "cell_type": "code",
   "execution_count": 18,
   "metadata": {},
   "outputs": [],
   "source": [
    "too_close = np.asarray(too_close)"
   ]
  },
  {
   "cell_type": "code",
   "execution_count": 19,
   "metadata": {},
   "outputs": [],
   "source": [
    "last_week_visible_seperate = last_week_visible.iloc[np.where(too_close == False)]"
   ]
  },
  {
   "cell_type": "code",
   "execution_count": 20,
   "metadata": {},
   "outputs": [
    {
     "data": {
      "text/plain": [
       "Counter({'XOSS': 18,\n",
       "         'GOTO': 24,\n",
       "         'YSE': 43,\n",
       "         'GaiaAlerts': 23,\n",
       "         'BlackGEM': 6,\n",
       "         'ALeRCE': 110,\n",
       "         'ZTF': 211,\n",
       "         'ATLAS': 99,\n",
       "         'Pan-STARRS': 251,\n",
       "         'MASTER': 3,\n",
       "         'SGLF': 6,\n",
       "         nan: 1,\n",
       "         'J-PAS': 1})"
      ]
     },
     "execution_count": 20,
     "metadata": {},
     "output_type": "execute_result"
    }
   ],
   "source": [
    "Counter(last_week_visible_seperate[\"reporting_group\"])"
   ]
  },
  {
   "cell_type": "code",
   "execution_count": 21,
   "metadata": {},
   "outputs": [
    {
     "data": {
      "text/plain": [
       "20                                        ZTF24abvruwg\n",
       "21                                        ZTF24abttpxy\n",
       "24                                        ZTF24abuulvw\n",
       "25                                        ZTF24absvnza\n",
       "26                                        ZTF24abvbjor\n",
       "                            ...                       \n",
       "871       ZTF24abtddls, ATLAS24qji, GOTO24ikr, PS24loe\n",
       "886                              ZTF24abhwymz, PS24lrm\n",
       "891                              ZTF24abfbska, PS24lpo\n",
       "894    ZTF24abeqnyi, BGEM J025642.69+061404.8, PS24lrt\n",
       "903                              ZTF24abalnbv, PS24lpr\n",
       "Name: internal_names, Length: 211, dtype: object"
      ]
     },
     "execution_count": 21,
     "metadata": {},
     "output_type": "execute_result"
    }
   ],
   "source": [
    "last_week_visible_seperate.iloc[np.where(last_week_visible_seperate[\"reporting_group\"] == \"ZTF\")][\"internal_names\"]"
   ]
  },
  {
   "cell_type": "code",
   "execution_count": 22,
   "metadata": {},
   "outputs": [
    {
     "data": {
      "text/html": [
       "<div>\n",
       "<style scoped>\n",
       "    .dataframe tbody tr th:only-of-type {\n",
       "        vertical-align: middle;\n",
       "    }\n",
       "\n",
       "    .dataframe tbody tr th {\n",
       "        vertical-align: top;\n",
       "    }\n",
       "\n",
       "    .dataframe thead th {\n",
       "        text-align: right;\n",
       "    }\n",
       "</style>\n",
       "<table border=\"1\" class=\"dataframe\">\n",
       "  <thead>\n",
       "    <tr style=\"text-align: right;\">\n",
       "      <th></th>\n",
       "      <th>objid</th>\n",
       "      <th>name_prefix</th>\n",
       "      <th>name</th>\n",
       "      <th>ra</th>\n",
       "      <th>declination</th>\n",
       "      <th>redshift</th>\n",
       "      <th>typeid</th>\n",
       "      <th>type</th>\n",
       "      <th>reporting_groupid</th>\n",
       "      <th>reporting_group</th>\n",
       "      <th>...</th>\n",
       "      <th>discoverymag</th>\n",
       "      <th>discmagfilter</th>\n",
       "      <th>filter</th>\n",
       "      <th>reporters</th>\n",
       "      <th>time_received</th>\n",
       "      <th>internal_names</th>\n",
       "      <th>Discovery_ADS_bibcode</th>\n",
       "      <th>Class_ADS_bibcodes</th>\n",
       "      <th>creationdate</th>\n",
       "      <th>lastmodified</th>\n",
       "    </tr>\n",
       "  </thead>\n",
       "  <tbody>\n",
       "    <tr>\n",
       "      <th>0</th>\n",
       "      <td>167852</td>\n",
       "      <td>AT</td>\n",
       "      <td>2024adhj</td>\n",
       "      <td>91.564708</td>\n",
       "      <td>50.491417</td>\n",
       "      <td>NaN</td>\n",
       "      <td>NaN</td>\n",
       "      <td>NaN</td>\n",
       "      <td>10.0</td>\n",
       "      <td>XOSS</td>\n",
       "      <td>...</td>\n",
       "      <td>18.2300</td>\n",
       "      <td>1.0</td>\n",
       "      <td>Clear</td>\n",
       "      <td>Jianlin Xu, Mi Zhang, Guoyou Sun, Jiangao Ruan...</td>\n",
       "      <td>2024-12-03 23:56:29</td>\n",
       "      <td>KATS24X001</td>\n",
       "      <td>NaN</td>\n",
       "      <td>NaN</td>\n",
       "      <td>2024-12-03 23:56:30</td>\n",
       "      <td>2024-12-03 23:56:30</td>\n",
       "    </tr>\n",
       "    <tr>\n",
       "      <th>1</th>\n",
       "      <td>167851</td>\n",
       "      <td>AT</td>\n",
       "      <td>2024adhi</td>\n",
       "      <td>165.550285</td>\n",
       "      <td>-4.500053</td>\n",
       "      <td>NaN</td>\n",
       "      <td>NaN</td>\n",
       "      <td>NaN</td>\n",
       "      <td>59.0</td>\n",
       "      <td>GOTO</td>\n",
       "      <td>...</td>\n",
       "      <td>19.5600</td>\n",
       "      <td>120.0</td>\n",
       "      <td>L</td>\n",
       "      <td>D. O'Neill, G. Ramsay, K. Ackley, M. Dyer, F. ...</td>\n",
       "      <td>2024-12-03 21:23:25</td>\n",
       "      <td>GOTO24irx</td>\n",
       "      <td>NaN</td>\n",
       "      <td>NaN</td>\n",
       "      <td>2024-12-03 21:23:27</td>\n",
       "      <td>2024-12-03 21:23:27</td>\n",
       "    </tr>\n",
       "    <tr>\n",
       "      <th>2</th>\n",
       "      <td>167850</td>\n",
       "      <td>AT</td>\n",
       "      <td>2024adhh</td>\n",
       "      <td>203.986204</td>\n",
       "      <td>12.525781</td>\n",
       "      <td>NaN</td>\n",
       "      <td>NaN</td>\n",
       "      <td>NaN</td>\n",
       "      <td>59.0</td>\n",
       "      <td>GOTO</td>\n",
       "      <td>...</td>\n",
       "      <td>18.7100</td>\n",
       "      <td>120.0</td>\n",
       "      <td>L</td>\n",
       "      <td>D. O'Neill, G. Ramsay, K. Ackley, M. Dyer, F. ...</td>\n",
       "      <td>2024-12-03 21:21:07</td>\n",
       "      <td>GOTO24iqv</td>\n",
       "      <td>NaN</td>\n",
       "      <td>NaN</td>\n",
       "      <td>2024-12-03 21:21:08</td>\n",
       "      <td>2024-12-03 21:21:08</td>\n",
       "    </tr>\n",
       "    <tr>\n",
       "      <th>3</th>\n",
       "      <td>167849</td>\n",
       "      <td>AT</td>\n",
       "      <td>2024adhg</td>\n",
       "      <td>341.908952</td>\n",
       "      <td>17.351157</td>\n",
       "      <td>NaN</td>\n",
       "      <td>NaN</td>\n",
       "      <td>NaN</td>\n",
       "      <td>83.0</td>\n",
       "      <td>YSE</td>\n",
       "      <td>...</td>\n",
       "      <td>19.9700</td>\n",
       "      <td>56.0</td>\n",
       "      <td>g</td>\n",
       "      <td>D. O. Jones (UC Santa Cruz), K. D. French (Car...</td>\n",
       "      <td>2024-12-03 19:48:54</td>\n",
       "      <td>PS24mgt</td>\n",
       "      <td>NaN</td>\n",
       "      <td>NaN</td>\n",
       "      <td>2024-12-03 19:48:55</td>\n",
       "      <td>2024-12-03 19:48:55</td>\n",
       "    </tr>\n",
       "    <tr>\n",
       "      <th>4</th>\n",
       "      <td>167848</td>\n",
       "      <td>AT</td>\n",
       "      <td>2024adhf</td>\n",
       "      <td>172.538846</td>\n",
       "      <td>-13.748777</td>\n",
       "      <td>NaN</td>\n",
       "      <td>NaN</td>\n",
       "      <td>NaN</td>\n",
       "      <td>59.0</td>\n",
       "      <td>GOTO</td>\n",
       "      <td>...</td>\n",
       "      <td>14.9000</td>\n",
       "      <td>120.0</td>\n",
       "      <td>L</td>\n",
       "      <td>D. O'Neill, K. Ackley, M. Dyer, F. Jiménez-Iba...</td>\n",
       "      <td>2024-12-03 15:11:28</td>\n",
       "      <td>GOTO24iqy</td>\n",
       "      <td>NaN</td>\n",
       "      <td>NaN</td>\n",
       "      <td>2024-12-03 15:11:29</td>\n",
       "      <td>2024-12-03 15:11:29</td>\n",
       "    </tr>\n",
       "    <tr>\n",
       "      <th>...</th>\n",
       "      <td>...</td>\n",
       "      <td>...</td>\n",
       "      <td>...</td>\n",
       "      <td>...</td>\n",
       "      <td>...</td>\n",
       "      <td>...</td>\n",
       "      <td>...</td>\n",
       "      <td>...</td>\n",
       "      <td>...</td>\n",
       "      <td>...</td>\n",
       "      <td>...</td>\n",
       "      <td>...</td>\n",
       "      <td>...</td>\n",
       "      <td>...</td>\n",
       "      <td>...</td>\n",
       "      <td>...</td>\n",
       "      <td>...</td>\n",
       "      <td>...</td>\n",
       "      <td>...</td>\n",
       "      <td>...</td>\n",
       "      <td>...</td>\n",
       "    </tr>\n",
       "    <tr>\n",
       "      <th>906</th>\n",
       "      <td>159248</td>\n",
       "      <td>SN</td>\n",
       "      <td>2024rqt</td>\n",
       "      <td>239.018631</td>\n",
       "      <td>28.900501</td>\n",
       "      <td>0.061</td>\n",
       "      <td>3.0</td>\n",
       "      <td>SN Ia</td>\n",
       "      <td>74.0</td>\n",
       "      <td>ALeRCE</td>\n",
       "      <td>...</td>\n",
       "      <td>20.0561</td>\n",
       "      <td>110.0</td>\n",
       "      <td>g</td>\n",
       "      <td>A. Munoz-Arancibia, F.E. Bauer, F. Forster, G....</td>\n",
       "      <td>2024-08-09 00:49:55</td>\n",
       "      <td>ZTF24aazqcuz, ATLAS24mxs, PS24hxa</td>\n",
       "      <td>2024TNSTR2831....1M</td>\n",
       "      <td>2024TNSCR3146....1T, 2024TNSCR3155....1R</td>\n",
       "      <td>2024-08-09 00:50:01</td>\n",
       "      <td>2024-11-27 23:07:37</td>\n",
       "    </tr>\n",
       "    <tr>\n",
       "      <th>910</th>\n",
       "      <td>158680</td>\n",
       "      <td>AT</td>\n",
       "      <td>2024qwf</td>\n",
       "      <td>19.268870</td>\n",
       "      <td>-7.906069</td>\n",
       "      <td>NaN</td>\n",
       "      <td>NaN</td>\n",
       "      <td>NaN</td>\n",
       "      <td>59.0</td>\n",
       "      <td>GOTO</td>\n",
       "      <td>...</td>\n",
       "      <td>19.0700</td>\n",
       "      <td>120.0</td>\n",
       "      <td>L</td>\n",
       "      <td>A. Kumar, G. Ramsay, K. Ackley, M. Dyer, F. Ji...</td>\n",
       "      <td>2024-08-02 06:21:24</td>\n",
       "      <td>GOTO24egf, ATLAS24mjy, ZTF24abcwcat, PS24lrd</td>\n",
       "      <td>2024TNSTR2713....1K</td>\n",
       "      <td>NaN</td>\n",
       "      <td>2024-08-02 06:21:25</td>\n",
       "      <td>2024-11-27 23:26:28</td>\n",
       "    </tr>\n",
       "    <tr>\n",
       "      <th>911</th>\n",
       "      <td>158460</td>\n",
       "      <td>SN</td>\n",
       "      <td>2024qnw</td>\n",
       "      <td>42.211565</td>\n",
       "      <td>-3.655257</td>\n",
       "      <td>0.040</td>\n",
       "      <td>107.0</td>\n",
       "      <td>SN Ib-pec</td>\n",
       "      <td>59.0</td>\n",
       "      <td>GOTO</td>\n",
       "      <td>...</td>\n",
       "      <td>18.9900</td>\n",
       "      <td>120.0</td>\n",
       "      <td>L</td>\n",
       "      <td>A. Kumar, D. O'Neill, K. Ackley, M. Dyer, F. J...</td>\n",
       "      <td>2024-07-30 06:22:14</td>\n",
       "      <td>GOTO24dxi, ATLAS24mkd, ZTF24aaxnosx, PS24htw</td>\n",
       "      <td>2024TNSTR2657....1K</td>\n",
       "      <td>2024TNSCR2904....1S</td>\n",
       "      <td>2024-07-30 06:22:15</td>\n",
       "      <td>2024-11-27 23:08:11</td>\n",
       "    </tr>\n",
       "    <tr>\n",
       "      <th>912</th>\n",
       "      <td>158051</td>\n",
       "      <td>SN</td>\n",
       "      <td>2024qar</td>\n",
       "      <td>67.949670</td>\n",
       "      <td>1.675136</td>\n",
       "      <td>0.040</td>\n",
       "      <td>3.0</td>\n",
       "      <td>SN Ia</td>\n",
       "      <td>18.0</td>\n",
       "      <td>ATLAS</td>\n",
       "      <td>...</td>\n",
       "      <td>17.9490</td>\n",
       "      <td>72.0</td>\n",
       "      <td>orange</td>\n",
       "      <td>J. Tonry, L. Denneau, H. Weiland, A. Lawrence,...</td>\n",
       "      <td>2024-07-25 08:35:29</td>\n",
       "      <td>ATLAS24lqh, GOTO24edk, PS24lox</td>\n",
       "      <td>2024TNSTR2574....1T</td>\n",
       "      <td>2024TNSCR2730....1T</td>\n",
       "      <td>2024-07-25 08:35:30</td>\n",
       "      <td>2024-11-27 23:10:00</td>\n",
       "    </tr>\n",
       "    <tr>\n",
       "      <th>913</th>\n",
       "      <td>155468</td>\n",
       "      <td>AT</td>\n",
       "      <td>2024mtf</td>\n",
       "      <td>37.268833</td>\n",
       "      <td>-15.199376</td>\n",
       "      <td>NaN</td>\n",
       "      <td>NaN</td>\n",
       "      <td>NaN</td>\n",
       "      <td>59.0</td>\n",
       "      <td>GOTO</td>\n",
       "      <td>...</td>\n",
       "      <td>18.9600</td>\n",
       "      <td>120.0</td>\n",
       "      <td>L</td>\n",
       "      <td>J. Lyman, A. Kumar, K. Ackley, M. Dyer, F. Jim...</td>\n",
       "      <td>2024-06-25 09:54:20</td>\n",
       "      <td>GOTO24cyo, ATLAS24jyf, PS24lpj</td>\n",
       "      <td>2024TNSTR2100....1L</td>\n",
       "      <td>NaN</td>\n",
       "      <td>2024-06-25 09:54:21</td>\n",
       "      <td>2024-11-27 23:12:24</td>\n",
       "    </tr>\n",
       "  </tbody>\n",
       "</table>\n",
       "<p>796 rows × 23 columns</p>\n",
       "</div>"
      ],
      "text/plain": [
       "      objid name_prefix      name          ra  declination  redshift  typeid  \\\n",
       "0    167852          AT  2024adhj   91.564708    50.491417       NaN     NaN   \n",
       "1    167851          AT  2024adhi  165.550285    -4.500053       NaN     NaN   \n",
       "2    167850          AT  2024adhh  203.986204    12.525781       NaN     NaN   \n",
       "3    167849          AT  2024adhg  341.908952    17.351157       NaN     NaN   \n",
       "4    167848          AT  2024adhf  172.538846   -13.748777       NaN     NaN   \n",
       "..      ...         ...       ...         ...          ...       ...     ...   \n",
       "906  159248          SN   2024rqt  239.018631    28.900501     0.061     3.0   \n",
       "910  158680          AT   2024qwf   19.268870    -7.906069       NaN     NaN   \n",
       "911  158460          SN   2024qnw   42.211565    -3.655257     0.040   107.0   \n",
       "912  158051          SN   2024qar   67.949670     1.675136     0.040     3.0   \n",
       "913  155468          AT   2024mtf   37.268833   -15.199376       NaN     NaN   \n",
       "\n",
       "          type  reporting_groupid reporting_group  ...  discoverymag  \\\n",
       "0          NaN               10.0            XOSS  ...       18.2300   \n",
       "1          NaN               59.0            GOTO  ...       19.5600   \n",
       "2          NaN               59.0            GOTO  ...       18.7100   \n",
       "3          NaN               83.0             YSE  ...       19.9700   \n",
       "4          NaN               59.0            GOTO  ...       14.9000   \n",
       "..         ...                ...             ...  ...           ...   \n",
       "906      SN Ia               74.0          ALeRCE  ...       20.0561   \n",
       "910        NaN               59.0            GOTO  ...       19.0700   \n",
       "911  SN Ib-pec               59.0            GOTO  ...       18.9900   \n",
       "912      SN Ia               18.0           ATLAS  ...       17.9490   \n",
       "913        NaN               59.0            GOTO  ...       18.9600   \n",
       "\n",
       "    discmagfilter  filter                                          reporters  \\\n",
       "0             1.0   Clear  Jianlin Xu, Mi Zhang, Guoyou Sun, Jiangao Ruan...   \n",
       "1           120.0       L  D. O'Neill, G. Ramsay, K. Ackley, M. Dyer, F. ...   \n",
       "2           120.0       L  D. O'Neill, G. Ramsay, K. Ackley, M. Dyer, F. ...   \n",
       "3            56.0       g  D. O. Jones (UC Santa Cruz), K. D. French (Car...   \n",
       "4           120.0       L  D. O'Neill, K. Ackley, M. Dyer, F. Jiménez-Iba...   \n",
       "..            ...     ...                                                ...   \n",
       "906         110.0       g  A. Munoz-Arancibia, F.E. Bauer, F. Forster, G....   \n",
       "910         120.0       L  A. Kumar, G. Ramsay, K. Ackley, M. Dyer, F. Ji...   \n",
       "911         120.0       L  A. Kumar, D. O'Neill, K. Ackley, M. Dyer, F. J...   \n",
       "912          72.0  orange  J. Tonry, L. Denneau, H. Weiland, A. Lawrence,...   \n",
       "913         120.0       L  J. Lyman, A. Kumar, K. Ackley, M. Dyer, F. Jim...   \n",
       "\n",
       "           time_received                                internal_names  \\\n",
       "0    2024-12-03 23:56:29                                    KATS24X001   \n",
       "1    2024-12-03 21:23:25                                     GOTO24irx   \n",
       "2    2024-12-03 21:21:07                                     GOTO24iqv   \n",
       "3    2024-12-03 19:48:54                                       PS24mgt   \n",
       "4    2024-12-03 15:11:28                                     GOTO24iqy   \n",
       "..                   ...                                           ...   \n",
       "906  2024-08-09 00:49:55             ZTF24aazqcuz, ATLAS24mxs, PS24hxa   \n",
       "910  2024-08-02 06:21:24  GOTO24egf, ATLAS24mjy, ZTF24abcwcat, PS24lrd   \n",
       "911  2024-07-30 06:22:14  GOTO24dxi, ATLAS24mkd, ZTF24aaxnosx, PS24htw   \n",
       "912  2024-07-25 08:35:29                ATLAS24lqh, GOTO24edk, PS24lox   \n",
       "913  2024-06-25 09:54:20                GOTO24cyo, ATLAS24jyf, PS24lpj   \n",
       "\n",
       "    Discovery_ADS_bibcode                        Class_ADS_bibcodes  \\\n",
       "0                     NaN                                       NaN   \n",
       "1                     NaN                                       NaN   \n",
       "2                     NaN                                       NaN   \n",
       "3                     NaN                                       NaN   \n",
       "4                     NaN                                       NaN   \n",
       "..                    ...                                       ...   \n",
       "906   2024TNSTR2831....1M  2024TNSCR3146....1T, 2024TNSCR3155....1R   \n",
       "910   2024TNSTR2713....1K                                       NaN   \n",
       "911   2024TNSTR2657....1K                       2024TNSCR2904....1S   \n",
       "912   2024TNSTR2574....1T                       2024TNSCR2730....1T   \n",
       "913   2024TNSTR2100....1L                                       NaN   \n",
       "\n",
       "           creationdate        lastmodified  \n",
       "0   2024-12-03 23:56:30 2024-12-03 23:56:30  \n",
       "1   2024-12-03 21:23:27 2024-12-03 21:23:27  \n",
       "2   2024-12-03 21:21:08 2024-12-03 21:21:08  \n",
       "3   2024-12-03 19:48:55 2024-12-03 19:48:55  \n",
       "4   2024-12-03 15:11:29 2024-12-03 15:11:29  \n",
       "..                  ...                 ...  \n",
       "906 2024-08-09 00:50:01 2024-11-27 23:07:37  \n",
       "910 2024-08-02 06:21:25 2024-11-27 23:26:28  \n",
       "911 2024-07-30 06:22:15 2024-11-27 23:08:11  \n",
       "912 2024-07-25 08:35:30 2024-11-27 23:10:00  \n",
       "913 2024-06-25 09:54:21 2024-11-27 23:12:24  \n",
       "\n",
       "[796 rows x 23 columns]"
      ]
     },
     "execution_count": 22,
     "metadata": {},
     "output_type": "execute_result"
    }
   ],
   "source": [
    "last_week_visible_seperate"
   ]
  },
  {
   "cell_type": "code",
   "execution_count": 26,
   "metadata": {},
   "outputs": [
    {
     "data": {
      "text/plain": [
       "2024"
      ]
     },
     "execution_count": 26,
     "metadata": {},
     "output_type": "execute_result"
    }
   ],
   "source": [
    "now.date().year"
   ]
  },
  {
   "cell_type": "code",
   "execution_count": 29,
   "metadata": {},
   "outputs": [],
   "source": [
    "last_week_visible_seperate.to_csv(\"TNS_ToO/ToO_Objects-{}{:02d}{:02d}.csv\".format(now.date().year, now.date().month, now.date().day), index = False)"
   ]
  },
  {
   "cell_type": "code",
   "execution_count": null,
   "metadata": {},
   "outputs": [],
   "source": []
  }
 ],
 "metadata": {
  "kernelspec": {
   "display_name": "desi_alerce",
   "language": "python",
   "name": "desi_alerce"
  },
  "language_info": {
   "codemirror_mode": {
    "name": "ipython",
    "version": 3
   },
   "file_extension": ".py",
   "mimetype": "text/x-python",
   "name": "python",
   "nbconvert_exporter": "python",
   "pygments_lexer": "ipython3",
   "version": "3.10.15"
  }
 },
 "nbformat": 4,
 "nbformat_minor": 4
}
