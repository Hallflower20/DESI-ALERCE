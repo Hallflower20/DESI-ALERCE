{
 "cells": [
  {
   "cell_type": "code",
   "execution_count": 1,
   "metadata": {
    "tags": []
   },
   "outputs": [],
   "source": [
    "import logging\n",
    "import os\n",
    "import sys\n",
    "from io import BytesIO\n",
    "import pandas as pd\n",
    "import requests\n",
    "from datetime import date, timedelta, datetime\n",
    "from collections import Counter\n",
    "import numpy as np\n",
    "import json\n",
    "from astroquery.vizier import Vizier\n",
    "import astropy.units as u\n",
    "from astropy.coordinates import SkyCoord\n",
    "from tqdm import tqdm\n",
    "import time\n",
    "from astropy.table import Table"
   ]
  },
  {
   "cell_type": "code",
   "execution_count": 2,
   "metadata": {
    "tags": []
   },
   "outputs": [],
   "source": [
    "from desimodel.footprint import is_point_in_desi"
   ]
  },
  {
   "cell_type": "code",
   "execution_count": 3,
   "metadata": {
    "tags": []
   },
   "outputs": [],
   "source": [
    "TNS_API_KEY= '006e7e40b06030997b93b0d0cf0973e56c408875'  # Works on real and sandbox now\n",
    "TNS_BOT_NAME = 'DESIRT_Bot'\n",
    "TNS_BOT_ID = 105220"
   ]
  },
  {
   "cell_type": "code",
   "execution_count": 4,
   "metadata": {
    "tags": []
   },
   "outputs": [],
   "source": [
    "CATALOG_URL = 'https://www.wis-tns.org/system/files/tns_public_objects/tns_public_objects.csv.zip'"
   ]
  },
  {
   "cell_type": "code",
   "execution_count": 5,
   "metadata": {
    "tags": []
   },
   "outputs": [],
   "source": [
    "def download_table():\n",
    "    with requests.post(\n",
    "        CATALOG_URL,\n",
    "        headers={\n",
    "            'user-agent': 'tns_marker{{\"tns_id\":\"{id}\",\"type\": \"bot\", \"name\":\"{name}\"}}'.format(\n",
    "                id=TNS_BOT_ID,\n",
    "                name=TNS_BOT_NAME,\n",
    "            )\n",
    "        },\n",
    "        data={\n",
    "            'api_key': (None, TNS_API_KEY)\n",
    "        },\n",
    "    ) as response:\n",
    "        return response.content"
   ]
  },
  {
   "cell_type": "code",
   "execution_count": 6,
   "metadata": {
    "tags": []
   },
   "outputs": [],
   "source": [
    "data = download_table()"
   ]
  },
  {
   "cell_type": "code",
   "execution_count": 7,
   "metadata": {
    "tags": []
   },
   "outputs": [],
   "source": [
    "df = pd.read_csv(\n",
    "        BytesIO(data),\n",
    "        skiprows=1,\n",
    "        compression='zip',\n",
    "    )"
   ]
  },
  {
   "cell_type": "code",
   "execution_count": 8,
   "metadata": {
    "tags": []
   },
   "outputs": [
    {
     "data": {
      "text/plain": [
       "datetime.date(2024, 12, 16)"
      ]
     },
     "execution_count": 8,
     "metadata": {},
     "output_type": "execute_result"
    }
   ],
   "source": [
    "date.today()"
   ]
  },
  {
   "cell_type": "code",
   "execution_count": 9,
   "metadata": {
    "tags": []
   },
   "outputs": [],
   "source": [
    "df[\"creationdate\"] = pd.to_datetime(df[\"creationdate\"])\n",
    "df[\"lastmodified\"] = pd.to_datetime(df[\"lastmodified\"])"
   ]
  },
  {
   "cell_type": "code",
   "execution_count": 10,
   "metadata": {
    "tags": []
   },
   "outputs": [],
   "source": [
    "now = datetime.now()\n",
    "last_week = now - timedelta(days=7)"
   ]
  },
  {
   "cell_type": "code",
   "execution_count": 11,
   "metadata": {
    "tags": []
   },
   "outputs": [],
   "source": [
    "last_week_rows = df[df['lastmodified'] > last_week]"
   ]
  },
  {
   "cell_type": "code",
   "execution_count": 12,
   "metadata": {
    "tags": []
   },
   "outputs": [
    {
     "data": {
      "text/plain": [
       "Index(['objid', 'name_prefix', 'name', 'ra', 'declination', 'redshift',\n",
       "       'typeid', 'type', 'reporting_groupid', 'reporting_group',\n",
       "       'source_groupid', 'source_group', 'discoverydate', 'discoverymag',\n",
       "       'discmagfilter', 'filter', 'reporters', 'time_received',\n",
       "       'internal_names', 'Discovery_ADS_bibcode', 'Class_ADS_bibcodes',\n",
       "       'creationdate', 'lastmodified'],\n",
       "      dtype='object')"
      ]
     },
     "execution_count": 12,
     "metadata": {},
     "output_type": "execute_result"
    }
   ],
   "source": [
    "last_week_rows.columns"
   ]
  },
  {
   "cell_type": "code",
   "execution_count": 13,
   "metadata": {
    "tags": []
   },
   "outputs": [],
   "source": [
    "last_week_visible = last_week_rows.iloc[np.where(last_week_rows[\"declination\"] > -30)]"
   ]
  },
  {
   "cell_type": "code",
   "execution_count": 14,
   "metadata": {
    "tags": []
   },
   "outputs": [],
   "source": [
    "t = Table.read(\"/global/cfs/cdirs/desi/survey/ops/surveyops/trunk/ops/tiles-main.ecsv\")\n",
    "sel = (t[\"IN_DESI\"]) & (t[\"STATUS\"] == \"unobs\")\n",
    "sel &= (t[\"PROGRAM\"] == \"BRIGHT\") | (t[\"PROGRAM\"] == \"DARK\")\n",
    "t = t[sel]"
   ]
  },
  {
   "cell_type": "code",
   "execution_count": 15,
   "metadata": {
    "tags": []
   },
   "outputs": [],
   "source": [
    "last_week_visible_tile_tf = is_point_in_desi(t, last_week_visible[\"ra\"], last_week_visible[\"declination\"])"
   ]
  },
  {
   "cell_type": "code",
   "execution_count": 16,
   "metadata": {
    "tags": []
   },
   "outputs": [],
   "source": [
    "last_week_visible_tile = last_week_visible.iloc[last_week_visible_tile_tf]"
   ]
  },
  {
   "cell_type": "code",
   "execution_count": 17,
   "metadata": {
    "tags": []
   },
   "outputs": [],
   "source": [
    "def is_close(distance, brightness):\n",
    "    print(distance)\n",
    "    print(brightness)\n",
    "    print((10 / (brightness - 3)))\n",
    "    print(np.log10(distance))\n",
    "    return ((10 / (brightness - 3)) > np.log10(distance))"
   ]
  },
  {
   "cell_type": "code",
   "execution_count": 18,
   "metadata": {
    "tags": []
   },
   "outputs": [],
   "source": [
    "def get_bright_star(sky_object, cone = 5*u.arcsec):\n",
    "    result = Vizier.query_region(sky_object,\n",
    "                             radius=cone,\n",
    "                             catalog='I/355/gaiadr3',\n",
    "                             column_filters={'Gmag': '<15'})\n",
    "    if len(result) == 0:\n",
    "        return False\n",
    "    return len(result[0]) > 0"
   ]
  },
  {
   "cell_type": "code",
   "execution_count": 19,
   "metadata": {
    "tags": []
   },
   "outputs": [
    {
     "name": "stderr",
     "output_type": "stream",
     "text": [
      "100%|██████████| 130/130 [06:34<00:00,  3.03s/it]\n"
     ]
    }
   ],
   "source": [
    "too_close = []\n",
    "for i in tqdm(SkyCoord(last_week_visible_tile[\"ra\"], last_week_visible_tile[\"declination\"], frame = \"icrs\", equinox = 'J2000', unit=\"deg\")):\n",
    "    too_close.append(get_bright_star(i))\n",
    "    time.sleep(2.5)"
   ]
  },
  {
   "cell_type": "code",
   "execution_count": 20,
   "metadata": {
    "tags": []
   },
   "outputs": [],
   "source": [
    "too_close = np.asarray(too_close)"
   ]
  },
  {
   "cell_type": "code",
   "execution_count": 21,
   "metadata": {
    "tags": []
   },
   "outputs": [],
   "source": [
    "last_week_visible_seperate = last_week_visible_tile.iloc[np.where(too_close == False)]"
   ]
  },
  {
   "cell_type": "code",
   "execution_count": 22,
   "metadata": {
    "tags": []
   },
   "outputs": [
    {
     "data": {
      "text/plain": [
       "Counter({'ZTF': 48,\n",
       "         'Pan-STARRS': 23,\n",
       "         'ATLAS': 17,\n",
       "         'ALeRCE': 12,\n",
       "         'GaiaAlerts': 11,\n",
       "         'GOTO': 10,\n",
       "         'XOSS': 4,\n",
       "         'SNHunt': 1,\n",
       "         'GEOTS': 1,\n",
       "         nan: 1,\n",
       "         'BlackGEM': 1,\n",
       "         'MASTER': 1})"
      ]
     },
     "execution_count": 22,
     "metadata": {},
     "output_type": "execute_result"
    }
   ],
   "source": [
    "Counter(last_week_visible_seperate[\"reporting_group\"])"
   ]
  },
  {
   "cell_type": "code",
   "execution_count": 23,
   "metadata": {
    "tags": []
   },
   "outputs": [
    {
     "data": {
      "text/plain": [
       "4                                           ZTF24abxylal\n",
       "12                                          ZTF24abxypih\n",
       "15                                          ZTF24abxyfev\n",
       "41                                 ZTF24abutata, PS24mmu\n",
       "43                                 ZTF24abwlhuv, PS24mpa\n",
       "56                                 ZTF24abvgcga, PS24mmy\n",
       "82                                 ZTF24abtmuoi, PS24mou\n",
       "93          ZTF24absvdpn, ATLAS24qgz, GOTO24ikz, PS24mqf\n",
       "94                     ZTF24absmvsz, ATLAS24qud, PS24moq\n",
       "97          ZTF24absmnsk, ATLAS24quj, GOTO24iqa, PS24mml\n",
       "100                    ZTF24abrmdti, ATLAS24qge, PS24mpc\n",
       "101                                ZTF24abricyl, PS24mpb\n",
       "102         ZTF24abribze, GOTO24idm, ATLAS24qhu, PS24mpq\n",
       "110         ZTF24aboiurx, ATLAS24pql, GOTO24hvc, PS24mof\n",
       "114         ZTF24ablzlmd, ATLAS24phv, GOTO24hsl, PS24mnu\n",
       "144                                         ZTF24abxxfzd\n",
       "151                                         ZTF24abxvvfi\n",
       "167         ZTF24abwlgza, ATLAS24rhf, GOTO24jat, PS24mlk\n",
       "170                                ZTF24abushfv, PS24mlz\n",
       "172                    ZTF24abugqth, ATLAS24qya, PS24mmd\n",
       "177         ZTF24abuhbmk, ATLAS24qvy, GOTO24irc, PS24mlt\n",
       "179         ZTF24abttoau, ATLAS24qoc, PS24ltk, GOTO24irn\n",
       "181         ZTF24absmlws, ATLAS24qny, GOTO24ipw, PS24mmc\n",
       "184         ZTF24abmuhbu, ATLAS24qqa, GOTO24isa, PS24mli\n",
       "204                                         ZTF24abxvcyp\n",
       "208                              ZTF24abuvpkt, Gaia24dpv\n",
       "226                                         ZTF24abwzbei\n",
       "227                                         ZTF24abxgkfv\n",
       "252                                         ZTF24abxtycc\n",
       "254                                         ZTF24abxtveu\n",
       "260                    ZTF24abwbfot, ATLAS24ril, PS24mkx\n",
       "262               ZTF18aaqclsd, ZTF24abwqvsu, ATLAS24rfy\n",
       "266       ZTF24abuvnmi, GOTO24ivc, Gaia24dpb, ATLAS24rjr\n",
       "274                  ZTF24absznoi, ATLAS24qot, GOTO24itm\n",
       "296                                         ZTF24abwyuoa\n",
       "316                   ZTF24abtjphs, GOTO24iwm, Gaia24dot\n",
       "318       ZTF24abszcqd, ATLAS24qvt, GOTO24isn, Gaia24doq\n",
       "319         ZTF24absdoug, ATLAS24qmb, GOTO24ixd, PS24mkd\n",
       "322         ZTF24abnoozs, GOTO24hgy, ATLAS24pun, PS24mke\n",
       "352    ZTF24abwlgae, BGEM J111500.43-035932.7, ATLAS2...\n",
       "358                     ZTF24abtzocr, GOTO24irl, PS24mju\n",
       "370                  ZTF24absshbg, ATLAS24rai, Gaia24dnm\n",
       "376       ZTF24abprtdf, ATLAS24pyp, GOTO24igb, Gaia24dnj\n",
       "379                     ZTF24aboiysi, GOTO24hrc, PS24mjy\n",
       "381    ZTF24ablestl, ATLAS24ppu, GOTO24hpx, BGEM J111...\n",
       "424                                         ZTF24abxfuog\n",
       "438                    ZTF24abrkfol, ATLAS24qhv, PS24llr\n",
       "439                             ZTF24absdppq, ATLAS24quh\n",
       "Name: internal_names, dtype: object"
      ]
     },
     "execution_count": 23,
     "metadata": {},
     "output_type": "execute_result"
    }
   ],
   "source": [
    "last_week_visible_seperate.iloc[np.where(last_week_visible_seperate[\"reporting_group\"] == \"ZTF\")][\"internal_names\"]"
   ]
  },
  {
   "cell_type": "code",
   "execution_count": 24,
   "metadata": {
    "tags": []
   },
   "outputs": [
    {
     "data": {
      "text/html": [
       "<div>\n",
       "<style scoped>\n",
       "    .dataframe tbody tr th:only-of-type {\n",
       "        vertical-align: middle;\n",
       "    }\n",
       "\n",
       "    .dataframe tbody tr th {\n",
       "        vertical-align: top;\n",
       "    }\n",
       "\n",
       "    .dataframe thead th {\n",
       "        text-align: right;\n",
       "    }\n",
       "</style>\n",
       "<table border=\"1\" class=\"dataframe\">\n",
       "  <thead>\n",
       "    <tr style=\"text-align: right;\">\n",
       "      <th></th>\n",
       "      <th>objid</th>\n",
       "      <th>name_prefix</th>\n",
       "      <th>name</th>\n",
       "      <th>ra</th>\n",
       "      <th>declination</th>\n",
       "      <th>redshift</th>\n",
       "      <th>typeid</th>\n",
       "      <th>type</th>\n",
       "      <th>reporting_groupid</th>\n",
       "      <th>reporting_group</th>\n",
       "      <th>...</th>\n",
       "      <th>discoverymag</th>\n",
       "      <th>discmagfilter</th>\n",
       "      <th>filter</th>\n",
       "      <th>reporters</th>\n",
       "      <th>time_received</th>\n",
       "      <th>internal_names</th>\n",
       "      <th>Discovery_ADS_bibcode</th>\n",
       "      <th>Class_ADS_bibcodes</th>\n",
       "      <th>creationdate</th>\n",
       "      <th>lastmodified</th>\n",
       "    </tr>\n",
       "  </thead>\n",
       "  <tbody>\n",
       "    <tr>\n",
       "      <th>3</th>\n",
       "      <td>168397</td>\n",
       "      <td>AT</td>\n",
       "      <td>2024aebu</td>\n",
       "      <td>239.887917</td>\n",
       "      <td>38.137581</td>\n",
       "      <td>NaN</td>\n",
       "      <td>NaN</td>\n",
       "      <td>NaN</td>\n",
       "      <td>24.0</td>\n",
       "      <td>GaiaAlerts</td>\n",
       "      <td>...</td>\n",
       "      <td>18.5100</td>\n",
       "      <td>75.0</td>\n",
       "      <td>G</td>\n",
       "      <td>S.T. Hodgkin, E. Breedt, A. Delgado, D.L. Harr...</td>\n",
       "      <td>2024-12-15 17:35:11</td>\n",
       "      <td>Gaia24dqr</td>\n",
       "      <td>NaN</td>\n",
       "      <td>NaN</td>\n",
       "      <td>2024-12-15 17:35:12</td>\n",
       "      <td>2024-12-15 17:35:12</td>\n",
       "    </tr>\n",
       "    <tr>\n",
       "      <th>4</th>\n",
       "      <td>168396</td>\n",
       "      <td>AT</td>\n",
       "      <td>2024aebt</td>\n",
       "      <td>135.097017</td>\n",
       "      <td>64.861455</td>\n",
       "      <td>NaN</td>\n",
       "      <td>NaN</td>\n",
       "      <td>NaN</td>\n",
       "      <td>48.0</td>\n",
       "      <td>ZTF</td>\n",
       "      <td>...</td>\n",
       "      <td>19.5589</td>\n",
       "      <td>110.0</td>\n",
       "      <td>g</td>\n",
       "      <td>Jesper Sollerman (SU), Christoffer Fremling (C...</td>\n",
       "      <td>2024-12-15 17:05:51</td>\n",
       "      <td>ZTF24abxylal</td>\n",
       "      <td>NaN</td>\n",
       "      <td>NaN</td>\n",
       "      <td>2024-12-15 17:05:52</td>\n",
       "      <td>2024-12-15 17:05:52</td>\n",
       "    </tr>\n",
       "    <tr>\n",
       "      <th>6</th>\n",
       "      <td>168394</td>\n",
       "      <td>AT</td>\n",
       "      <td>2024aebr</td>\n",
       "      <td>20.880884</td>\n",
       "      <td>8.795317</td>\n",
       "      <td>NaN</td>\n",
       "      <td>NaN</td>\n",
       "      <td>NaN</td>\n",
       "      <td>4.0</td>\n",
       "      <td>Pan-STARRS</td>\n",
       "      <td>...</td>\n",
       "      <td>20.0000</td>\n",
       "      <td>26.0</td>\n",
       "      <td>w</td>\n",
       "      <td>K. C. Chambers, T. de Boer, J. Fairlamb, M. Hu...</td>\n",
       "      <td>2024-12-15 16:55:31</td>\n",
       "      <td>PS24mqe</td>\n",
       "      <td>NaN</td>\n",
       "      <td>NaN</td>\n",
       "      <td>2024-12-15 16:55:32</td>\n",
       "      <td>2024-12-15 16:55:32</td>\n",
       "    </tr>\n",
       "    <tr>\n",
       "      <th>7</th>\n",
       "      <td>168393</td>\n",
       "      <td>AT</td>\n",
       "      <td>2024aebq</td>\n",
       "      <td>129.708309</td>\n",
       "      <td>18.904488</td>\n",
       "      <td>NaN</td>\n",
       "      <td>NaN</td>\n",
       "      <td>NaN</td>\n",
       "      <td>4.0</td>\n",
       "      <td>Pan-STARRS</td>\n",
       "      <td>...</td>\n",
       "      <td>19.3400</td>\n",
       "      <td>26.0</td>\n",
       "      <td>w</td>\n",
       "      <td>K. C. Chambers, T. de Boer, J. Fairlamb, M. Hu...</td>\n",
       "      <td>2024-12-15 16:25:11</td>\n",
       "      <td>PS24mpt</td>\n",
       "      <td>NaN</td>\n",
       "      <td>NaN</td>\n",
       "      <td>2024-12-15 16:25:12</td>\n",
       "      <td>2024-12-15 16:25:12</td>\n",
       "    </tr>\n",
       "    <tr>\n",
       "      <th>8</th>\n",
       "      <td>168392</td>\n",
       "      <td>AT</td>\n",
       "      <td>2024aebp</td>\n",
       "      <td>203.561293</td>\n",
       "      <td>-6.754273</td>\n",
       "      <td>NaN</td>\n",
       "      <td>NaN</td>\n",
       "      <td>NaN</td>\n",
       "      <td>74.0</td>\n",
       "      <td>ALeRCE</td>\n",
       "      <td>...</td>\n",
       "      <td>19.0586</td>\n",
       "      <td>111.0</td>\n",
       "      <td>r</td>\n",
       "      <td>F. Forster, F.E. Bauer, G. Pignata, A. Munoz-A...</td>\n",
       "      <td>2024-12-15 15:44:33</td>\n",
       "      <td>ZTF24abxypwh</td>\n",
       "      <td>NaN</td>\n",
       "      <td>NaN</td>\n",
       "      <td>2024-12-15 15:44:34</td>\n",
       "      <td>2024-12-15 15:44:34</td>\n",
       "    </tr>\n",
       "    <tr>\n",
       "      <th>...</th>\n",
       "      <td>...</td>\n",
       "      <td>...</td>\n",
       "      <td>...</td>\n",
       "      <td>...</td>\n",
       "      <td>...</td>\n",
       "      <td>...</td>\n",
       "      <td>...</td>\n",
       "      <td>...</td>\n",
       "      <td>...</td>\n",
       "      <td>...</td>\n",
       "      <td>...</td>\n",
       "      <td>...</td>\n",
       "      <td>...</td>\n",
       "      <td>...</td>\n",
       "      <td>...</td>\n",
       "      <td>...</td>\n",
       "      <td>...</td>\n",
       "      <td>...</td>\n",
       "      <td>...</td>\n",
       "      <td>...</td>\n",
       "      <td>...</td>\n",
       "    </tr>\n",
       "    <tr>\n",
       "      <th>399</th>\n",
       "      <td>168185</td>\n",
       "      <td>AT</td>\n",
       "      <td>2024adtq</td>\n",
       "      <td>229.261914</td>\n",
       "      <td>12.635093</td>\n",
       "      <td>NaN</td>\n",
       "      <td>NaN</td>\n",
       "      <td>NaN</td>\n",
       "      <td>74.0</td>\n",
       "      <td>ALeRCE</td>\n",
       "      <td>...</td>\n",
       "      <td>19.7914</td>\n",
       "      <td>111.0</td>\n",
       "      <td>r</td>\n",
       "      <td>A. Munoz-Arancibia, G. Pignata, F.E. Bauer, F....</td>\n",
       "      <td>2024-12-09 17:26:11</td>\n",
       "      <td>ZTF24abxgkcy</td>\n",
       "      <td>2024TNSTR4821....1M</td>\n",
       "      <td>NaN</td>\n",
       "      <td>2024-12-09 17:26:19</td>\n",
       "      <td>2024-12-09 17:26:19</td>\n",
       "    </tr>\n",
       "    <tr>\n",
       "      <th>424</th>\n",
       "      <td>168100</td>\n",
       "      <td>AT</td>\n",
       "      <td>2024adqj</td>\n",
       "      <td>184.738299</td>\n",
       "      <td>36.937146</td>\n",
       "      <td>NaN</td>\n",
       "      <td>NaN</td>\n",
       "      <td>NaN</td>\n",
       "      <td>48.0</td>\n",
       "      <td>ZTF</td>\n",
       "      <td>...</td>\n",
       "      <td>19.9771</td>\n",
       "      <td>110.0</td>\n",
       "      <td>g</td>\n",
       "      <td>Jesper Sollerman (SU), Christoffer Fremling (C...</td>\n",
       "      <td>2024-12-08 12:14:13</td>\n",
       "      <td>ZTF24abxfuog</td>\n",
       "      <td>2024TNSTR4813....1S</td>\n",
       "      <td>NaN</td>\n",
       "      <td>2024-12-08 12:14:14</td>\n",
       "      <td>2024-12-09 17:26:21</td>\n",
       "    </tr>\n",
       "    <tr>\n",
       "      <th>437</th>\n",
       "      <td>166671</td>\n",
       "      <td>SN</td>\n",
       "      <td>2024aboy</td>\n",
       "      <td>207.144875</td>\n",
       "      <td>24.893439</td>\n",
       "      <td>0.029716</td>\n",
       "      <td>13.0</td>\n",
       "      <td>SN IIn</td>\n",
       "      <td>18.0</td>\n",
       "      <td>ATLAS</td>\n",
       "      <td>...</td>\n",
       "      <td>18.2970</td>\n",
       "      <td>72.0</td>\n",
       "      <td>orange</td>\n",
       "      <td>J. Tonry, L. Denneau, H. Weiland, R. Siverd (I...</td>\n",
       "      <td>2024-11-20 21:15:08</td>\n",
       "      <td>ATLAS24qhq, ZTF24abuvisc, Gaia24dmf, GOTO24ivg</td>\n",
       "      <td>2024TNSTR4550....1T</td>\n",
       "      <td>2024TNSCR4840....1S</td>\n",
       "      <td>2024-11-20 21:15:10</td>\n",
       "      <td>2024-12-09 19:17:26</td>\n",
       "    </tr>\n",
       "    <tr>\n",
       "      <th>438</th>\n",
       "      <td>166310</td>\n",
       "      <td>SN</td>\n",
       "      <td>2024abbi</td>\n",
       "      <td>359.060582</td>\n",
       "      <td>12.483990</td>\n",
       "      <td>0.100000</td>\n",
       "      <td>3.0</td>\n",
       "      <td>SN Ia</td>\n",
       "      <td>48.0</td>\n",
       "      <td>ZTF</td>\n",
       "      <td>...</td>\n",
       "      <td>19.9649</td>\n",
       "      <td>110.0</td>\n",
       "      <td>g</td>\n",
       "      <td>Jesper Sollerman (SU), Christoffer Fremling (C...</td>\n",
       "      <td>2024-11-14 05:15:34</td>\n",
       "      <td>ZTF24abrkfol, ATLAS24qhv, PS24llr</td>\n",
       "      <td>2024TNSTR4497....1S</td>\n",
       "      <td>2024TNSCR4840....1S</td>\n",
       "      <td>2024-11-14 05:15:35</td>\n",
       "      <td>2024-12-09 19:31:34</td>\n",
       "    </tr>\n",
       "    <tr>\n",
       "      <th>439</th>\n",
       "      <td>166287</td>\n",
       "      <td>SN</td>\n",
       "      <td>2024abal</td>\n",
       "      <td>197.512985</td>\n",
       "      <td>51.402179</td>\n",
       "      <td>0.054100</td>\n",
       "      <td>3.0</td>\n",
       "      <td>SN Ia</td>\n",
       "      <td>48.0</td>\n",
       "      <td>ZTF</td>\n",
       "      <td>...</td>\n",
       "      <td>18.9891</td>\n",
       "      <td>110.0</td>\n",
       "      <td>g</td>\n",
       "      <td>Jesper Sollerman (SU), Christoffer Fremling (C...</td>\n",
       "      <td>2024-11-13 12:06:36</td>\n",
       "      <td>ZTF24absdppq, ATLAS24quh</td>\n",
       "      <td>2024TNSTR4483....1S</td>\n",
       "      <td>2024TNSCR4841....1C</td>\n",
       "      <td>2024-11-13 12:06:37</td>\n",
       "      <td>2024-12-09 19:26:24</td>\n",
       "    </tr>\n",
       "  </tbody>\n",
       "</table>\n",
       "<p>130 rows × 23 columns</p>\n",
       "</div>"
      ],
      "text/plain": [
       "      objid name_prefix      name          ra  declination  redshift  typeid  \\\n",
       "3    168397          AT  2024aebu  239.887917    38.137581       NaN     NaN   \n",
       "4    168396          AT  2024aebt  135.097017    64.861455       NaN     NaN   \n",
       "6    168394          AT  2024aebr   20.880884     8.795317       NaN     NaN   \n",
       "7    168393          AT  2024aebq  129.708309    18.904488       NaN     NaN   \n",
       "8    168392          AT  2024aebp  203.561293    -6.754273       NaN     NaN   \n",
       "..      ...         ...       ...         ...          ...       ...     ...   \n",
       "399  168185          AT  2024adtq  229.261914    12.635093       NaN     NaN   \n",
       "424  168100          AT  2024adqj  184.738299    36.937146       NaN     NaN   \n",
       "437  166671          SN  2024aboy  207.144875    24.893439  0.029716    13.0   \n",
       "438  166310          SN  2024abbi  359.060582    12.483990  0.100000     3.0   \n",
       "439  166287          SN  2024abal  197.512985    51.402179  0.054100     3.0   \n",
       "\n",
       "       type  reporting_groupid reporting_group  ...  discoverymag  \\\n",
       "3       NaN               24.0      GaiaAlerts  ...       18.5100   \n",
       "4       NaN               48.0             ZTF  ...       19.5589   \n",
       "6       NaN                4.0      Pan-STARRS  ...       20.0000   \n",
       "7       NaN                4.0      Pan-STARRS  ...       19.3400   \n",
       "8       NaN               74.0          ALeRCE  ...       19.0586   \n",
       "..      ...                ...             ...  ...           ...   \n",
       "399     NaN               74.0          ALeRCE  ...       19.7914   \n",
       "424     NaN               48.0             ZTF  ...       19.9771   \n",
       "437  SN IIn               18.0           ATLAS  ...       18.2970   \n",
       "438   SN Ia               48.0             ZTF  ...       19.9649   \n",
       "439   SN Ia               48.0             ZTF  ...       18.9891   \n",
       "\n",
       "    discmagfilter  filter                                          reporters  \\\n",
       "3            75.0       G  S.T. Hodgkin, E. Breedt, A. Delgado, D.L. Harr...   \n",
       "4           110.0       g  Jesper Sollerman (SU), Christoffer Fremling (C...   \n",
       "6            26.0       w  K. C. Chambers, T. de Boer, J. Fairlamb, M. Hu...   \n",
       "7            26.0       w  K. C. Chambers, T. de Boer, J. Fairlamb, M. Hu...   \n",
       "8           111.0       r  F. Forster, F.E. Bauer, G. Pignata, A. Munoz-A...   \n",
       "..            ...     ...                                                ...   \n",
       "399         111.0       r  A. Munoz-Arancibia, G. Pignata, F.E. Bauer, F....   \n",
       "424         110.0       g  Jesper Sollerman (SU), Christoffer Fremling (C...   \n",
       "437          72.0  orange  J. Tonry, L. Denneau, H. Weiland, R. Siverd (I...   \n",
       "438         110.0       g  Jesper Sollerman (SU), Christoffer Fremling (C...   \n",
       "439         110.0       g  Jesper Sollerman (SU), Christoffer Fremling (C...   \n",
       "\n",
       "           time_received                                  internal_names  \\\n",
       "3    2024-12-15 17:35:11                                       Gaia24dqr   \n",
       "4    2024-12-15 17:05:51                                    ZTF24abxylal   \n",
       "6    2024-12-15 16:55:31                                         PS24mqe   \n",
       "7    2024-12-15 16:25:11                                         PS24mpt   \n",
       "8    2024-12-15 15:44:33                                    ZTF24abxypwh   \n",
       "..                   ...                                             ...   \n",
       "399  2024-12-09 17:26:11                                    ZTF24abxgkcy   \n",
       "424  2024-12-08 12:14:13                                    ZTF24abxfuog   \n",
       "437  2024-11-20 21:15:08  ATLAS24qhq, ZTF24abuvisc, Gaia24dmf, GOTO24ivg   \n",
       "438  2024-11-14 05:15:34               ZTF24abrkfol, ATLAS24qhv, PS24llr   \n",
       "439  2024-11-13 12:06:36                        ZTF24absdppq, ATLAS24quh   \n",
       "\n",
       "    Discovery_ADS_bibcode   Class_ADS_bibcodes        creationdate  \\\n",
       "3                     NaN                  NaN 2024-12-15 17:35:12   \n",
       "4                     NaN                  NaN 2024-12-15 17:05:52   \n",
       "6                     NaN                  NaN 2024-12-15 16:55:32   \n",
       "7                     NaN                  NaN 2024-12-15 16:25:12   \n",
       "8                     NaN                  NaN 2024-12-15 15:44:34   \n",
       "..                    ...                  ...                 ...   \n",
       "399   2024TNSTR4821....1M                  NaN 2024-12-09 17:26:19   \n",
       "424   2024TNSTR4813....1S                  NaN 2024-12-08 12:14:14   \n",
       "437   2024TNSTR4550....1T  2024TNSCR4840....1S 2024-11-20 21:15:10   \n",
       "438   2024TNSTR4497....1S  2024TNSCR4840....1S 2024-11-14 05:15:35   \n",
       "439   2024TNSTR4483....1S  2024TNSCR4841....1C 2024-11-13 12:06:37   \n",
       "\n",
       "           lastmodified  \n",
       "3   2024-12-15 17:35:12  \n",
       "4   2024-12-15 17:05:52  \n",
       "6   2024-12-15 16:55:32  \n",
       "7   2024-12-15 16:25:12  \n",
       "8   2024-12-15 15:44:34  \n",
       "..                  ...  \n",
       "399 2024-12-09 17:26:19  \n",
       "424 2024-12-09 17:26:21  \n",
       "437 2024-12-09 19:17:26  \n",
       "438 2024-12-09 19:31:34  \n",
       "439 2024-12-09 19:26:24  \n",
       "\n",
       "[130 rows x 23 columns]"
      ]
     },
     "execution_count": 24,
     "metadata": {},
     "output_type": "execute_result"
    }
   ],
   "source": [
    "last_week_visible_seperate"
   ]
  },
  {
   "cell_type": "code",
   "execution_count": 25,
   "metadata": {
    "tags": []
   },
   "outputs": [
    {
     "data": {
      "text/plain": [
       "2024"
      ]
     },
     "execution_count": 25,
     "metadata": {},
     "output_type": "execute_result"
    }
   ],
   "source": [
    "now.date().year"
   ]
  },
  {
   "cell_type": "code",
   "execution_count": 26,
   "metadata": {
    "tags": []
   },
   "outputs": [],
   "source": [
    "last_week_visible_seperate.to_csv(\"TNS_ToO/ToO_Objects-{}{:02d}{:02d}.csv\".format(now.date().year, now.date().month, now.date().day), index = False)"
   ]
  },
  {
   "cell_type": "markdown",
   "metadata": {},
   "source": [
    "source /global/cfs/cdirs/desi/software/desi_environment.sh 23.1"
   ]
  },
  {
   "cell_type": "code",
   "execution_count": 27,
   "metadata": {
    "tags": []
   },
   "outputs": [
    {
     "name": "stdout",
     "output_type": "stream",
     "text": [
      "python build_ledger.py TNS_ToO/ToO_Objects-20241216.csv -o TNS_ToO/ToO-input-20241216.ecsv\n"
     ]
    }
   ],
   "source": [
    "print(\"python build_ledger.py TNS_ToO/ToO_Objects-{}{:02d}{:02d}.csv -o TNS_ToO/ToO-input-{}{:02d}{:02d}.ecsv\".format(now.date().year, now.date().month, now.date().day, now.date().year, now.date().month, now.date().day))"
   ]
  },
  {
   "cell_type": "markdown",
   "metadata": {},
   "source": [
    "cd /pscratch/sd/a/adamyers/ToO/segev_put_it_here"
   ]
  },
  {
   "cell_type": "code",
   "execution_count": 28,
   "metadata": {},
   "outputs": [
    {
     "name": "stdout",
     "output_type": "stream",
     "text": [
      "cat ~/GitHub/DESI-ALERCE/TNS_ToO/ToO-input-20241216.ecsv >> ToO-input.ecsv\n"
     ]
    }
   ],
   "source": [
    "print(\"cat ~/GitHub/DESI-ALERCE/TNS_ToO/ToO-input-{}{:02d}{:02d}.ecsv >> ToO-input.ecsv\".format(now.date().year, now.date().month, now.date().day))"
   ]
  },
  {
   "cell_type": "code",
   "execution_count": null,
   "metadata": {},
   "outputs": [],
   "source": []
  }
 ],
 "metadata": {
  "kernelspec": {
   "display_name": "DESI main",
   "language": "python",
   "name": "desi-main"
  },
  "language_info": {
   "codemirror_mode": {
    "name": "ipython",
    "version": 3
   },
   "file_extension": ".py",
   "mimetype": "text/x-python",
   "name": "python",
   "nbconvert_exporter": "python",
   "pygments_lexer": "ipython3",
   "version": "3.10.14"
  }
 },
 "nbformat": 4,
 "nbformat_minor": 4
}
