{
 "cells": [
  {
   "cell_type": "code",
   "execution_count": 24,
   "metadata": {},
   "outputs": [],
   "source": [
    "import logging\n",
    "import os\n",
    "import sys\n",
    "from io import BytesIO\n",
    "import pandas as pd\n",
    "import requests\n",
    "from datetime import date, timedelta, datetime\n",
    "from collections import Counter\n",
    "import numpy as np\n",
    "from dotenv import load_dotenv\n",
    "from tns_api import get_object\n",
    "import json\n",
    "from astroquery.vizier import Vizier\n",
    "import astropy.units as u\n",
    "from astropy.coordinates import SkyCoord\n",
    "from tqdm import tqdm\n",
    "import time\n",
    "from astropy.table import Table, Column\n",
    "from astropy.time import Time"
   ]
  },
  {
   "cell_type": "code",
   "execution_count": 14,
   "metadata": {},
   "outputs": [],
   "source": [
    "names = [\"SDSS_J094715\", \"BZQJ1305\", \"SDSS_J135225\", \"HS_1630\"]\n",
    "ra = [\"09 47 15.6\", \"13 05 33.0\", \"13 52 25.8\", \"16 33 02.7\"]\n",
    "dec = [\"+63 17 17.3\", \"-10 33 19.1\", \"+13 28 53.3\", \"+23 49 28.8\"]\n",
    "reporter = \"Eka\""
   ]
  },
  {
   "cell_type": "code",
   "execution_count": 15,
   "metadata": {},
   "outputs": [
    {
     "data": {
      "text/plain": [
       "'2024-12-02T00:21:52.238868'"
      ]
     },
     "execution_count": 15,
     "metadata": {},
     "output_type": "execute_result"
    }
   ],
   "source": [
    "now = datetime.now()\n",
    "now.isoformat()"
   ]
  },
  {
   "cell_type": "code",
   "execution_count": 32,
   "metadata": {},
   "outputs": [],
   "source": [
    "table = Table(\n",
    "    names=(\"name\", \"ra\", \"declination\", \"reporting_group\", \"reporters\", \"creationdate\", \"lastmodified\"),\n",
    "    dtype=(\"U25\", \"f8\", \"f8\", \"U50\", \"U50\", \"U25\", \"U25\")  # Integer, float, and string column types\n",
    ")\n",
    "for i, j, k in zip(names, ra, dec):\n",
    "    position = SkyCoord(j, k, unit = (\"hourangle\", \"deg\"))\n",
    "    row = [i, position.ra.deg, position.dec.deg, reporter, reporter, now.isoformat().replace(\"T\", \" \"), now.isoformat().replace(\"T\", \" \")]\n",
    "    table.add_row(row)"
   ]
  },
  {
   "cell_type": "code",
   "execution_count": 33,
   "metadata": {},
   "outputs": [],
   "source": [
    "table.to_pandas().to_csv(\"TNS_ToO/ToO_Objects-Eka.csv\", index = False)"
   ]
  },
  {
   "cell_type": "code",
   "execution_count": null,
   "metadata": {},
   "outputs": [],
   "source": []
  }
 ],
 "metadata": {
  "kernelspec": {
   "display_name": "desi_alerce",
   "language": "python",
   "name": "desi_alerce"
  },
  "language_info": {
   "codemirror_mode": {
    "name": "ipython",
    "version": 3
   },
   "file_extension": ".py",
   "mimetype": "text/x-python",
   "name": "python",
   "nbconvert_exporter": "python",
   "pygments_lexer": "ipython3",
   "version": "3.10.15"
  }
 },
 "nbformat": 4,
 "nbformat_minor": 4
}
