{
 "cells": [
  {
   "cell_type": "code",
   "execution_count": 1,
   "id": "10dc91d0-8757-4874-baaf-f36a224c90b6",
   "metadata": {
    "tags": []
   },
   "outputs": [],
   "source": [
    "import os\n",
    "import fitsio\n",
    "import numpy as np\n",
    "from astropy.table import Table, vstack\n",
    "from astropy.io import fits\n",
    "from desispec.io import read_spectra\n",
    "from desitrip.preproc import rebin_flux, rescale_flux"
   ]
  },
  {
   "cell_type": "code",
   "execution_count": 2,
   "id": "ef7f1bb4-2b09-4373-9ee5-05162b95c323",
   "metadata": {
    "tags": []
   },
   "outputs": [],
   "source": [
    "# tiles from that prog with observation *only* that night, i.e. designed that night\n",
    "def get_tileids_fafns(night, prog):\n",
    "    assert prog in [\"bright\", \"dark\"]\n",
    "    # tiles from that prog with observation *only* that night, i.e. designed that night\n",
    "    d = Table.read(\"/global/cfs/cdirs/desi/spectro/redux/daily/exposures-daily.csv\")\n",
    "    black_expids = np.unique(d[\"EXPID\"][d[\"NIGHT\"] != night])\n",
    "    sel = (d[\"NIGHT\"] == night) & (d[\"EFFTIME_SPEC\"] > 0)\n",
    "    sel &= d[\"FAFLAVOR\"] == \"main{}\".format(prog)\n",
    "    sel &= ~np.in1d(d[\"EXPID\"], black_expids)\n",
    "    d = d[sel]\n",
    "    # unique list of tiles\n",
    "    _, ii = np.unique(d[\"TILEID\"], return_index=True)\n",
    "    d = d[ii]\n",
    "    # fiberassign file paths (looking in spectro/data, as they may not be in svn yet)\n",
    "    fafns = []\n",
    "    for i in range(len(d)):\n",
    "        expdir = os.path.join(\n",
    "            os.getenv(\"DESI_ROOT\"),\n",
    "            \"spectro\",\n",
    "            \"data\",\n",
    "            str(night),\n",
    "            \"{:08d}\".format(d[\"EXPID\"][i]),\n",
    "        )\n",
    "        fafn = os.path.join(expdir, \"fiberassign-{:06d}.fits.gz\".format(d[\"TILEID\"][i]))\n",
    "        assert os.path.isfile(fafn)\n",
    "        fafns.append(fafn)\n",
    "    fafns = np.array(fafns)\n",
    "    #\n",
    "    return d[\"TILEID\"], fafns"
   ]
  },
  {
   "cell_type": "code",
   "execution_count": 3,
   "id": "4807fdc9-3f9e-4c18-abcc-62f26c072826",
   "metadata": {
    "tags": []
   },
   "outputs": [],
   "source": [
    "def report_night(night, prog, t):\n",
    "\n",
    "    assert prog in [\"bright\", \"dark\"]\n",
    "\n",
    "    d = Table()\n",
    "    d[\"TILEID\"], d[\"FAFN\"] = get_tileids_fafns(night, prog)\n",
    "\n",
    "    # now check fiberassign against ToOs\n",
    "    d[\"ASSGN_NTOO\"], d[\"POT_NTOO\"] = 0, 0\n",
    "    d[\"ASSGN_TIMESTAMP_MIN\"] = np.zeros_like(t[\"TIMESTAMP\"], shape=(len(d),))\n",
    "    d[\"ASSGN_TIMESTAMP_MAX\"] = np.zeros_like(t[\"TIMESTAMP\"], shape=(len(d),))\n",
    "    assgn_tids, pot_tids = [], []\n",
    "\n",
    "    for i in range(len(d)):\n",
    "\n",
    "        # read fiberassign\n",
    "        assgn_d = fitsio.read(d[\"FAFN\"][i], \"FIBERASSIGN\")\n",
    "        pot_d = fitsio.read(d[\"FAFN\"][i], \"TARGETS\")\n",
    "\n",
    "        # potentia / assigned ToOs\n",
    "        sel = np.in1d(t[\"TARGETID\"], assgn_d[\"TARGETID\"])\n",
    "        d[\"ASSGN_NTOO\"][i] = sel.sum()\n",
    "        assgn_tids += t[\"TARGETID\"][sel].tolist()\n",
    "        if sel.sum() > 0:\n",
    "            d[\"ASSGN_TIMESTAMP_MIN\"][i] = sorted(t[\"TIMESTAMP\"][sel])[0]\n",
    "            d[\"ASSGN_TIMESTAMP_MAX\"][i] = sorted(t[\"TIMESTAMP\"][sel])[-1]\n",
    "        sel = np.in1d(t[\"TARGETID\"], pot_d[\"TARGETID\"])\n",
    "        d[\"POT_NTOO\"][i] = sel.sum()\n",
    "        pot_tids += t[\"TARGETID\"][sel].tolist()\n",
    "\n",
    "    # tiles from one night should not overlap!\n",
    "    assert np.unique(assgn_tids).size == len(assgn_tids)\n",
    "    assert np.unique(pot_tids).size == len(pot_tids)\n",
    "\n",
    "    # report\n",
    "    r = Table()\n",
    "    r[\"NIGHT\"], r[\"PROG\"], r[\"NTILE\"] = [night], [prog.upper()], [len(d)]\n",
    "    r[\"POT_NTOO\"], r[\"ASSGN_NTOO\"] = len(pot_tids), len(assgn_tids)\n",
    "    ts_mins = d[\"ASSGN_TIMESTAMP_MIN\"][d[\"ASSGN_TIMESTAMP_MIN\"] != \"\"]\n",
    "    if ts_mins.size == 0:\n",
    "        r[\"ASSGN_TIMESTAMP_MIN\"] = \"-\"\n",
    "    else:\n",
    "        r[\"ASSGN_TIMESTAMP_MIN\"] = sorted(ts_mins)[0]\n",
    "    ts_maxs = d[\"ASSGN_TIMESTAMP_MIN\"][d[\"ASSGN_TIMESTAMP_MIN\"] != \"\"]\n",
    "    if ts_maxs.size == 0:\n",
    "        r[\"ASSGN_TIMESTAMP_MAX\"] = \"-\"\n",
    "    else:\n",
    "        r[\"ASSGN_TIMESTAMP_MAX\"] = sorted(ts_maxs)[-1]\n",
    "\n",
    "    return r, d"
   ]
  },
  {
   "cell_type": "code",
   "execution_count": 4,
   "id": "37903786-06dd-43c2-8dc7-28ba5f56eefb",
   "metadata": {
    "tags": []
   },
   "outputs": [
    {
     "name": "stdout",
     "output_type": "stream",
     "text": [
      "found BRIGHT=1415 and DARK=0 ToOs\n",
      "\n",
      " NIGHT    PROG  NTILE POT_NTOO ASSGN_NTOO    ASSGN_TIMESTAMP_MIN       ASSGN_TIMESTAMP_MAX   \n",
      "-------- ------ ----- -------- ---------- ------------------------- -------------------------\n",
      "20241201 BRIGHT     5        0          0                         -                         -\n",
      "20241202 BRIGHT     5        0          0                         -                         -\n",
      "20241203 BRIGHT     4        1          1 2024-12-03T15:48:31+00:00 2024-12-03T15:48:31+00:00\n",
      "20241204 BRIGHT     6        0          0                         -                         -\n",
      "20241205 BRIGHT     6        8          2 2024-12-03T15:48:31+00:00 2024-12-03T15:48:31+00:00\n",
      "20241206 BRIGHT     8        3          0                         -                         -\n",
      "20241207 BRIGHT     4        2          1 2024-12-06T18:54:27+00:00 2024-12-06T18:54:27+00:00\n",
      "20241208 BRIGHT     8        1          0                         -                         -\n",
      "20241209 BRIGHT     9        4          0                         -                         -\n",
      "\n"
     ]
    }
   ],
   "source": [
    "progs = [\"bright\"]\n",
    "\n",
    "# ToOs (starting in Dec. 2024)\n",
    "fn = os.path.join(\n",
    "    os.getenv(\"DESI_SURVEYOPS\"), \"mtl\", \"main\", \"ToO\", \"ToO-fiber.ecsv\"\n",
    ")\n",
    "t = Table.read(fn)\n",
    "yms = np.array([int(_[:7].replace(\"-\", \"\")) for _ in t[\"TIMESTAMP\"]])\n",
    "sel = yms >= 202412\n",
    "t = t[sel]\n",
    "print(\n",
    "    \"found BRIGHT={} and DARK={} ToOs\".format(\n",
    "        (t[\"OCLAYER\"] == \"BRIGHT\").sum(), (t[\"OCLAYER\"] == \"DARK\").sum()\n",
    "    )\n",
    ")\n",
    "\n",
    "# nights (starting in Dec. 2024)\n",
    "d = Table.read(\"/global/cfs/cdirs/desi/spectro/redux/daily/exposures-daily.csv\")\n",
    "sel = d[\"EFFTIME_SPEC\"] > 0\n",
    "sel &= (d[\"FAFLAVOR\"] == \"mainbright\") | (d[\"FAFLAVOR\"] == \"maindark\")\n",
    "d = d[sel]\n",
    "nights = np.unique(d[\"NIGHT\"])\n",
    "nights = nights[nights >= 20241201]\n",
    "\n",
    "for prog in progs:\n",
    "    sel = t[\"OCLAYER\"] == prog.upper()\n",
    "    rs = []\n",
    "    for night in nights:\n",
    "        r, d = report_night(night, prog, t[sel])\n",
    "        rs.append(r)\n",
    "    r = vstack(rs)\n",
    "    print(\"\")\n",
    "    r.pprint_all()\n",
    "    print(\"\")"
   ]
  },
  {
   "cell_type": "code",
   "execution_count": 5,
   "id": "b67eda7a-23a6-4514-b528-21043681da1a",
   "metadata": {
    "tags": []
   },
   "outputs": [],
   "source": [
    "r, d = report_night(20241207, prog, t[sel])"
   ]
  },
  {
   "cell_type": "code",
   "execution_count": 6,
   "id": "9cd1d78c-4ed3-4246-9892-8f84697770b3",
   "metadata": {
    "tags": []
   },
   "outputs": [
    {
     "data": {
      "text/html": [
       "<i>Row index=3</i>\n",
       "<table id=\"table139888148029904\">\n",
       "<thead><tr><th>TILEID</th><th>FAFN</th><th>ASSGN_NTOO</th><th>POT_NTOO</th><th>ASSGN_TIMESTAMP_MIN</th><th>ASSGN_TIMESTAMP_MAX</th></tr></thead>\n",
       "<thead><tr><th></th><th></th><th></th><th></th><th>s</th><th>s</th></tr></thead>\n",
       "<thead><tr><th>int64</th><th>str80</th><th>int64</th><th>int64</th><th>str25</th><th>str25</th></tr></thead>\n",
       "<tr><td>27307</td><td>/global/cfs/cdirs/desi/spectro/data/20241207/00267232/fiberassign-027307.fits.gz</td><td>1</td><td>1</td><td>2024-12-06T18:54:27+00:00</td><td>2024-12-06T18:54:27+00:00</td></tr>\n",
       "</table>"
      ],
      "text/plain": [
       "<Row index=3>\n",
       "TILEID                                       FAFN                                       ASSGN_NTOO POT_NTOO    ASSGN_TIMESTAMP_MIN       ASSGN_TIMESTAMP_MAX   \n",
       "                                                                                                                        s                         s            \n",
       "int64                                       str80                                         int64     int64             str25                     str25          \n",
       "------ -------------------------------------------------------------------------------- ---------- -------- ------------------------- -------------------------\n",
       " 27307 /global/cfs/cdirs/desi/spectro/data/20241207/00267232/fiberassign-027307.fits.gz          1        1 2024-12-06T18:54:27+00:00 2024-12-06T18:54:27+00:00"
      ]
     },
     "execution_count": 6,
     "metadata": {},
     "output_type": "execute_result"
    }
   ],
   "source": [
    "d[3]"
   ]
  },
  {
   "cell_type": "code",
   "execution_count": 19,
   "id": "70c85221-b1aa-4c55-8baa-af7f6dc94aee",
   "metadata": {
    "tags": []
   },
   "outputs": [],
   "source": [
    "spectra = fits.open(\"/global/cfs/cdirs/desi/spectro/data/20241207/00267232/desi-00267232.fits.fz\", mode='readonly')"
   ]
  },
  {
   "cell_type": "code",
   "execution_count": 29,
   "id": "e82faabb-f4d3-4bcb-989d-d1f5688282a2",
   "metadata": {
    "tags": []
   },
   "outputs": [
    {
     "data": {
      "text/plain": [
       "[<astropy.io.fits.hdu.image.PrimaryHDU object at 0x7f4f87c22830>, <astropy.io.fits.hdu.compressed.compressed.CompImageHDU object at 0x7f4f8c2175b0>, <astropy.io.fits.hdu.compressed.compressed.CompImageHDU object at 0x7f4f87ca8f40>, <astropy.io.fits.hdu.compressed.compressed.CompImageHDU object at 0x7f4f86197610>, <astropy.io.fits.hdu.compressed.compressed.CompImageHDU object at 0x7f4f87ca99f0>, <astropy.io.fits.hdu.compressed.compressed.CompImageHDU object at 0x7f4f87ca8760>, <astropy.io.fits.hdu.compressed.compressed.CompImageHDU object at 0x7f4f87ca8ca0>, <astropy.io.fits.hdu.compressed.compressed.CompImageHDU object at 0x7f4f87ca9c60>, <astropy.io.fits.hdu.compressed.compressed.CompImageHDU object at 0x7f4f87ca9540>, <astropy.io.fits.hdu.compressed.compressed.CompImageHDU object at 0x7f4f861e83a0>, <astropy.io.fits.hdu.compressed.compressed.CompImageHDU object at 0x7f4f861e85b0>, <astropy.io.fits.hdu.compressed.compressed.CompImageHDU object at 0x7f4f861e8a00>, <astropy.io.fits.hdu.compressed.compressed.CompImageHDU object at 0x7f4f861e8ca0>, <astropy.io.fits.hdu.compressed.compressed.CompImageHDU object at 0x7f4f861e9240>, <astropy.io.fits.hdu.compressed.compressed.CompImageHDU object at 0x7f4f861e8ee0>, <astropy.io.fits.hdu.compressed.compressed.CompImageHDU object at 0x7f4f87ca98d0>, <astropy.io.fits.hdu.compressed.compressed.CompImageHDU object at 0x7f4f87ca8dc0>, <astropy.io.fits.hdu.compressed.compressed.CompImageHDU object at 0x7f4f87ca9420>, <astropy.io.fits.hdu.compressed.compressed.CompImageHDU object at 0x7f4f87ca9d20>, <astropy.io.fits.hdu.compressed.compressed.CompImageHDU object at 0x7f4f87ca8910>, <astropy.io.fits.hdu.compressed.compressed.CompImageHDU object at 0x7f4f87ca8340>, <astropy.io.fits.hdu.compressed.compressed.CompImageHDU object at 0x7f4f8c217be0>, <astropy.io.fits.hdu.compressed.compressed.CompImageHDU object at 0x7f4f87c230d0>, <astropy.io.fits.hdu.compressed.compressed.CompImageHDU object at 0x7f4f861e9810>, <astropy.io.fits.hdu.compressed.compressed.CompImageHDU object at 0x7f4f861e9750>, <astropy.io.fits.hdu.compressed.compressed.CompImageHDU object at 0x7f4f861e8b50>, <astropy.io.fits.hdu.compressed.compressed.CompImageHDU object at 0x7f4f861e8d30>, <astropy.io.fits.hdu.compressed.compressed.CompImageHDU object at 0x7f4f861e8580>, <astropy.io.fits.hdu.compressed.compressed.CompImageHDU object at 0x7f4f861e8220>, <astropy.io.fits.hdu.compressed.compressed.CompImageHDU object at 0x7f4f861e9e10>, <astropy.io.fits.hdu.compressed.compressed.CompImageHDU object at 0x7f4f861ea590>, <astropy.io.fits.hdu.compressed.compressed.CompImageHDU object at 0x7f4f8c2174c0>, <astropy.io.fits.hdu.table.BinTableHDU object at 0x7f4f8c217af0>]"
      ]
     },
     "execution_count": 29,
     "metadata": {},
     "output_type": "execute_result"
    }
   ],
   "source": [
    "spectra"
   ]
  },
  {
   "cell_type": "code",
   "execution_count": 17,
   "id": "487e9df8-1184-4f2f-9dc9-046156334039",
   "metadata": {
    "tags": []
   },
   "outputs": [
    {
     "data": {
      "text/html": [
       "<div><i>Table length=170239</i>\n",
       "<table id=\"table139979557346208\" class=\"table-striped table-bordered table-condensed\">\n",
       "<thead><tr><th>TARGETID</th><th>FIBER</th><th>LOCATION</th></tr></thead>\n",
       "<thead><tr><th>int64</th><th>int32</th><th>int32</th></tr></thead>\n",
       "<tr><td>39628435957485436</td><td>400</td><td>0</td></tr>\n",
       "<tr><td>39628435957485736</td><td>400</td><td>0</td></tr>\n",
       "<tr><td>39628435957485772</td><td>400</td><td>0</td></tr>\n",
       "<tr><td>39628435957485814</td><td>400</td><td>0</td></tr>\n",
       "<tr><td>39628435957485825</td><td>400</td><td>0</td></tr>\n",
       "<tr><td>39628435957486030</td><td>400</td><td>0</td></tr>\n",
       "<tr><td>39628435957486035</td><td>400</td><td>0</td></tr>\n",
       "<tr><td>39628435957486109</td><td>400</td><td>0</td></tr>\n",
       "<tr><td>616089188260905766</td><td>400</td><td>0</td></tr>\n",
       "<tr><td>616089188260905767</td><td>400</td><td>0</td></tr>\n",
       "<tr><td>...</td><td>...</td><td>...</td></tr>\n",
       "<tr><td>616089161383805687</td><td>4909</td><td>9525</td></tr>\n",
       "<tr><td>616089161383805688</td><td>4909</td><td>9525</td></tr>\n",
       "<tr><td>616089161383805689</td><td>4909</td><td>9525</td></tr>\n",
       "<tr><td>616089161383805690</td><td>4909</td><td>9525</td></tr>\n",
       "<tr><td>616089161383805721</td><td>4909</td><td>9525</td></tr>\n",
       "<tr><td>616089161383805722</td><td>4909</td><td>9525</td></tr>\n",
       "<tr><td>616089161383805723</td><td>4909</td><td>9525</td></tr>\n",
       "<tr><td>616089161383805724</td><td>4909</td><td>9525</td></tr>\n",
       "<tr><td>616089161383805757</td><td>4909</td><td>9525</td></tr>\n",
       "<tr><td>616089161383805758</td><td>4909</td><td>9525</td></tr>\n",
       "</table></div>"
      ],
      "text/plain": [
       "<Table length=170239>\n",
       "     TARGETID      FIBER LOCATION\n",
       "      int64        int32  int32  \n",
       "------------------ ----- --------\n",
       " 39628435957485436   400        0\n",
       " 39628435957485736   400        0\n",
       " 39628435957485772   400        0\n",
       " 39628435957485814   400        0\n",
       " 39628435957485825   400        0\n",
       " 39628435957486030   400        0\n",
       " 39628435957486035   400        0\n",
       " 39628435957486109   400        0\n",
       "616089188260905766   400        0\n",
       "616089188260905767   400        0\n",
       "               ...   ...      ...\n",
       "616089161383805687  4909     9525\n",
       "616089161383805688  4909     9525\n",
       "616089161383805689  4909     9525\n",
       "616089161383805690  4909     9525\n",
       "616089161383805721  4909     9525\n",
       "616089161383805722  4909     9525\n",
       "616089161383805723  4909     9525\n",
       "616089161383805724  4909     9525\n",
       "616089161383805757  4909     9525\n",
       "616089161383805758  4909     9525"
      ]
     },
     "execution_count": 17,
     "metadata": {},
     "output_type": "execute_result"
    }
   ],
   "source": [
    "Table(spectra[5].data)"
   ]
  },
  {
   "cell_type": "code",
   "execution_count": null,
   "id": "6c0f8f13-17ba-415b-b3ad-a5f02d859bc9",
   "metadata": {},
   "outputs": [],
   "source": []
  }
 ],
 "metadata": {
  "kernelspec": {
   "display_name": "DESI main",
   "language": "python",
   "name": "desi-main"
  },
  "language_info": {
   "codemirror_mode": {
    "name": "ipython",
    "version": 3
   },
   "file_extension": ".py",
   "mimetype": "text/x-python",
   "name": "python",
   "nbconvert_exporter": "python",
   "pygments_lexer": "ipython3",
   "version": "3.10.14"
  }
 },
 "nbformat": 4,
 "nbformat_minor": 5
}
